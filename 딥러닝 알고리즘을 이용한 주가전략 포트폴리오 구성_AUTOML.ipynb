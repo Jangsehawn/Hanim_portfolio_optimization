{
 "cells": [
  {
   "cell_type": "code",
   "execution_count": 1,
   "metadata": {},
   "outputs": [
    {
     "name": "stdout",
     "output_type": "stream",
     "text": [
      "C:\\Users\\장세환\n"
     ]
    }
   ],
   "source": [
    "import os\n",
    "print(os.getcwd())\n"
   ]
  },
  {
   "cell_type": "code",
   "execution_count": 2,
   "metadata": {},
   "outputs": [
    {
     "name": "stdout",
     "output_type": "stream",
     "text": [
      "E:\\hanim\\quantking\n"
     ]
    }
   ],
   "source": [
    "os.chdir(\"E:/hanim/quantking\")\n",
    "print(os.getcwd())"
   ]
  },
  {
   "cell_type": "code",
   "execution_count": 6,
   "metadata": {},
   "outputs": [],
   "source": [
    "import pandas as pd\n",
    "import numpy as np\n",
    "import matplotlib.pyplot as plt\n",
    "import csv\n",
    "import openpyxl"
   ]
  },
  {
   "cell_type": "code",
   "execution_count": 104,
   "metadata": {},
   "outputs": [],
   "source": [
    "data=pd.read_excel('./final_bis_data.xlsx')"
   ]
  },
  {
   "cell_type": "code",
   "execution_count": 105,
   "metadata": {},
   "outputs": [
    {
     "data": {
      "text/html": [
       "<div>\n",
       "<style scoped>\n",
       "    .dataframe tbody tr th:only-of-type {\n",
       "        vertical-align: middle;\n",
       "    }\n",
       "\n",
       "    .dataframe tbody tr th {\n",
       "        vertical-align: top;\n",
       "    }\n",
       "\n",
       "    .dataframe thead th {\n",
       "        text-align: right;\n",
       "    }\n",
       "</style>\n",
       "<table border=\"1\" class=\"dataframe\">\n",
       "  <thead>\n",
       "    <tr style=\"text-align: right;\">\n",
       "      <th></th>\n",
       "      <th>Unnamed: 0</th>\n",
       "      <th>Unnamed: 0.1</th>\n",
       "      <th>Unnamed: 0.1.1</th>\n",
       "      <th>B</th>\n",
       "      <th>C</th>\n",
       "      <th>D</th>\n",
       "      <th>E</th>\n",
       "      <th>F</th>\n",
       "      <th>G</th>\n",
       "      <th>H</th>\n",
       "      <th>...</th>\n",
       "      <th>2019_04</th>\n",
       "      <th>2019_05</th>\n",
       "      <th>2019_06</th>\n",
       "      <th>2019_07</th>\n",
       "      <th>2019_08</th>\n",
       "      <th>2019_09</th>\n",
       "      <th>2019_10</th>\n",
       "      <th>2019_11</th>\n",
       "      <th>2019_12</th>\n",
       "      <th>ER</th>\n",
       "    </tr>\n",
       "  </thead>\n",
       "  <tbody>\n",
       "    <tr>\n",
       "      <th>0</th>\n",
       "      <td>34992</td>\n",
       "      <td>1453</td>\n",
       "      <td>1453</td>\n",
       "      <td>A123040</td>\n",
       "      <td>엠에스오토텍</td>\n",
       "      <td>자동차 및 관련부품</td>\n",
       "      <td>차체부품</td>\n",
       "      <td>코스닥</td>\n",
       "      <td>5130</td>\n",
       "      <td>746</td>\n",
       "      <td>...</td>\n",
       "      <td>0</td>\n",
       "      <td>0</td>\n",
       "      <td>0</td>\n",
       "      <td>0</td>\n",
       "      <td>0</td>\n",
       "      <td>0</td>\n",
       "      <td>0</td>\n",
       "      <td>0</td>\n",
       "      <td>0</td>\n",
       "      <td>0.000000</td>\n",
       "    </tr>\n",
       "    <tr>\n",
       "      <th>1</th>\n",
       "      <td>34993</td>\n",
       "      <td>3409</td>\n",
       "      <td>1453</td>\n",
       "      <td>A123040</td>\n",
       "      <td>엠에스오토텍</td>\n",
       "      <td>자동차 및 관련부품</td>\n",
       "      <td>차체부품</td>\n",
       "      <td>코스닥</td>\n",
       "      <td>5160</td>\n",
       "      <td>751</td>\n",
       "      <td>...</td>\n",
       "      <td>0</td>\n",
       "      <td>0</td>\n",
       "      <td>0</td>\n",
       "      <td>0</td>\n",
       "      <td>0</td>\n",
       "      <td>0</td>\n",
       "      <td>0</td>\n",
       "      <td>0</td>\n",
       "      <td>0</td>\n",
       "      <td>0.584795</td>\n",
       "    </tr>\n",
       "    <tr>\n",
       "      <th>2</th>\n",
       "      <td>34994</td>\n",
       "      <td>5365</td>\n",
       "      <td>1453</td>\n",
       "      <td>A123040</td>\n",
       "      <td>엠에스오토텍</td>\n",
       "      <td>자동차 및 관련부품</td>\n",
       "      <td>차체부품</td>\n",
       "      <td>코스닥</td>\n",
       "      <td>5890</td>\n",
       "      <td>856.81</td>\n",
       "      <td>...</td>\n",
       "      <td>0</td>\n",
       "      <td>0</td>\n",
       "      <td>0</td>\n",
       "      <td>0</td>\n",
       "      <td>0</td>\n",
       "      <td>0</td>\n",
       "      <td>0</td>\n",
       "      <td>0</td>\n",
       "      <td>0</td>\n",
       "      <td>14.147287</td>\n",
       "    </tr>\n",
       "    <tr>\n",
       "      <th>3</th>\n",
       "      <td>34995</td>\n",
       "      <td>7321</td>\n",
       "      <td>1453</td>\n",
       "      <td>A123040</td>\n",
       "      <td>엠에스오토텍</td>\n",
       "      <td>자동차 및 관련부품</td>\n",
       "      <td>차체부품</td>\n",
       "      <td>코스닥</td>\n",
       "      <td>5690</td>\n",
       "      <td>827.71</td>\n",
       "      <td>...</td>\n",
       "      <td>0</td>\n",
       "      <td>0</td>\n",
       "      <td>0</td>\n",
       "      <td>0</td>\n",
       "      <td>0</td>\n",
       "      <td>0</td>\n",
       "      <td>0</td>\n",
       "      <td>0</td>\n",
       "      <td>0</td>\n",
       "      <td>-3.395586</td>\n",
       "    </tr>\n",
       "    <tr>\n",
       "      <th>4</th>\n",
       "      <td>34996</td>\n",
       "      <td>9277</td>\n",
       "      <td>1453</td>\n",
       "      <td>A123040</td>\n",
       "      <td>엠에스오토텍</td>\n",
       "      <td>자동차 및 관련부품</td>\n",
       "      <td>차체부품</td>\n",
       "      <td>코스닥</td>\n",
       "      <td>5150</td>\n",
       "      <td>749.16</td>\n",
       "      <td>...</td>\n",
       "      <td>0</td>\n",
       "      <td>0</td>\n",
       "      <td>0</td>\n",
       "      <td>0</td>\n",
       "      <td>0</td>\n",
       "      <td>0</td>\n",
       "      <td>0</td>\n",
       "      <td>0</td>\n",
       "      <td>0</td>\n",
       "      <td>-9.490334</td>\n",
       "    </tr>\n",
       "  </tbody>\n",
       "</table>\n",
       "<p>5 rows × 72 columns</p>\n",
       "</div>"
      ],
      "text/plain": [
       "   Unnamed: 0  Unnamed: 0.1  Unnamed: 0.1.1        B       C           D  \\\n",
       "0       34992          1453            1453  A123040  엠에스오토텍  자동차 및 관련부품   \n",
       "1       34993          3409            1453  A123040  엠에스오토텍  자동차 및 관련부품   \n",
       "2       34994          5365            1453  A123040  엠에스오토텍  자동차 및 관련부품   \n",
       "3       34995          7321            1453  A123040  엠에스오토텍  자동차 및 관련부품   \n",
       "4       34996          9277            1453  A123040  엠에스오토텍  자동차 및 관련부품   \n",
       "\n",
       "      E    F     G       H  ...  2019_04  2019_05  2019_06  2019_07  2019_08  \\\n",
       "0  차체부품  코스닥  5130     746  ...        0        0        0        0        0   \n",
       "1  차체부품  코스닥  5160     751  ...        0        0        0        0        0   \n",
       "2  차체부품  코스닥  5890  856.81  ...        0        0        0        0        0   \n",
       "3  차체부품  코스닥  5690  827.71  ...        0        0        0        0        0   \n",
       "4  차체부품  코스닥  5150  749.16  ...        0        0        0        0        0   \n",
       "\n",
       "   2019_09  2019_10  2019_11  2019_12         ER  \n",
       "0        0        0        0        0   0.000000  \n",
       "1        0        0        0        0   0.584795  \n",
       "2        0        0        0        0  14.147287  \n",
       "3        0        0        0        0  -3.395586  \n",
       "4        0        0        0        0  -9.490334  \n",
       "\n",
       "[5 rows x 72 columns]"
      ]
     },
     "execution_count": 105,
     "metadata": {},
     "output_type": "execute_result"
    }
   ],
   "source": [
    "data.head()# G열이 target : 주가"
   ]
  },
  {
   "cell_type": "code",
   "execution_count": 127,
   "metadata": {},
   "outputs": [
    {
     "name": "stdout",
     "output_type": "stream",
     "text": [
      "Checking whether there is an H2O instance running at http://localhost:54321 . connected.\n"
     ]
    },
    {
     "data": {
      "text/html": [
       "<div style=\"overflow:auto\"><table style=\"width:50%\"><tr><td>H2O_cluster_uptime:</td>\n",
       "<td>12 days 3 hours 28 mins</td></tr>\n",
       "<tr><td>H2O_cluster_timezone:</td>\n",
       "<td>Asia/Seoul</td></tr>\n",
       "<tr><td>H2O_data_parsing_timezone:</td>\n",
       "<td>UTC</td></tr>\n",
       "<tr><td>H2O_cluster_version:</td>\n",
       "<td>3.30.0.7</td></tr>\n",
       "<tr><td>H2O_cluster_version_age:</td>\n",
       "<td>2 months and 11 days </td></tr>\n",
       "<tr><td>H2O_cluster_name:</td>\n",
       "<td>H2O_from_python_占쎌삢占쎄쉭占쎌넎_s8b2y9</td></tr>\n",
       "<tr><td>H2O_cluster_total_nodes:</td>\n",
       "<td>1</td></tr>\n",
       "<tr><td>H2O_cluster_free_memory:</td>\n",
       "<td>2.016 Gb</td></tr>\n",
       "<tr><td>H2O_cluster_total_cores:</td>\n",
       "<td>8</td></tr>\n",
       "<tr><td>H2O_cluster_allowed_cores:</td>\n",
       "<td>8</td></tr>\n",
       "<tr><td>H2O_cluster_status:</td>\n",
       "<td>locked, healthy</td></tr>\n",
       "<tr><td>H2O_connection_url:</td>\n",
       "<td>http://localhost:54321</td></tr>\n",
       "<tr><td>H2O_connection_proxy:</td>\n",
       "<td>{\"http\": null, \"https\": null, \"no\": \"192.168.99.100\"}</td></tr>\n",
       "<tr><td>H2O_internal_security:</td>\n",
       "<td>False</td></tr>\n",
       "<tr><td>H2O_API_Extensions:</td>\n",
       "<td>Amazon S3, Algos, AutoML, Core V3, TargetEncoder, Core V4</td></tr>\n",
       "<tr><td>Python_version:</td>\n",
       "<td>3.7.7 final</td></tr></table></div>"
      ],
      "text/plain": [
       "--------------------------  ---------------------------------------------------------\n",
       "H2O_cluster_uptime:         12 days 3 hours 28 mins\n",
       "H2O_cluster_timezone:       Asia/Seoul\n",
       "H2O_data_parsing_timezone:  UTC\n",
       "H2O_cluster_version:        3.30.0.7\n",
       "H2O_cluster_version_age:    2 months and 11 days\n",
       "H2O_cluster_name:           H2O_from_python_占쎌삢占쎄쉭占쎌넎_s8b2y9\n",
       "H2O_cluster_total_nodes:    1\n",
       "H2O_cluster_free_memory:    2.016 Gb\n",
       "H2O_cluster_total_cores:    8\n",
       "H2O_cluster_allowed_cores:  8\n",
       "H2O_cluster_status:         locked, healthy\n",
       "H2O_connection_url:         http://localhost:54321\n",
       "H2O_connection_proxy:       {\"http\": null, \"https\": null, \"no\": \"192.168.99.100\"}\n",
       "H2O_internal_security:      False\n",
       "H2O_API_Extensions:         Amazon S3, Algos, AutoML, Core V3, TargetEncoder, Core V4\n",
       "Python_version:             3.7.7 final\n",
       "--------------------------  ---------------------------------------------------------"
      ]
     },
     "metadata": {},
     "output_type": "display_data"
    }
   ],
   "source": [
    "import h2o\n",
    "from h2o.automl import H2OAutoML\n",
    "h2o.init()"
   ]
  },
  {
   "cell_type": "code",
   "execution_count": 30,
   "metadata": {},
   "outputs": [
    {
     "data": {
      "text/plain": [
       "Index(['Unnamed: 0', 'Unnamed: 0.1', 'Unnamed: 0.1.1', 'B', 'C', 'D', 'E', 'F',\n",
       "       'G', 'H', 'I', 'J', 'K', 'L', 'M', 'N', 'O', 'P', 'Q', 'R', 'T', 'U',\n",
       "       'V', 'W', 'X', 'Y', 'Z', 'AA', 'AB', 'AC', 'AD', 'AE', 'AF', 'AG', 'AH',\n",
       "       '2017_01', '2017_02', '2017_03', '2017_04', '2017_05', '2017_06',\n",
       "       '2017_07', '2017_08', '2017_09', '2017_10', '2017_11', '2017_12',\n",
       "       '2018_01', '2018_02', '2018_03', '2018_04', '2018_05', '2018_06',\n",
       "       '2018_07', '2018_08', '2018_09', '2018_10', '2018_11', '2018_12',\n",
       "       '2019_01', '2019_02', '2019_03', '2019_04', '2019_05', '2019_06',\n",
       "       '2019_07', '2019_08', '2019_09', '2019_10', '2019_11', '2019_12', 'ER'],\n",
       "      dtype='object')"
      ]
     },
     "execution_count": 30,
     "metadata": {},
     "output_type": "execute_result"
    }
   ],
   "source": [
    "data.columns"
   ]
  },
  {
   "cell_type": "code",
   "execution_count": 86,
   "metadata": {},
   "outputs": [],
   "source": [
    "def add_frequency_encoding(data,column): \n",
    "    #데이터프레임,열을 받아서 빈도수인코딩열을 추가해줌\n",
    "    enc_nom = (data.groupby(column).size())/len(data)\n",
    "    data['freq_encode_{}'.format(column)] = data[column].apply(lambda x:enc_nom[x])\n",
    "    print(\"freq_encode column was added\")"
   ]
  },
  {
   "cell_type": "code",
   "execution_count": 106,
   "metadata": {},
   "outputs": [
    {
     "name": "stdout",
     "output_type": "stream",
     "text": [
      "freq_encode column was added\n"
     ]
    }
   ],
   "source": [
    "add_frequency_encoding(data,'C')"
   ]
  },
  {
   "cell_type": "code",
   "execution_count": 107,
   "metadata": {},
   "outputs": [
    {
     "name": "stdout",
     "output_type": "stream",
     "text": [
      "freq_encode column was added\n"
     ]
    }
   ],
   "source": [
    "add_frequency_encoding(data,'D')"
   ]
  },
  {
   "cell_type": "code",
   "execution_count": 108,
   "metadata": {},
   "outputs": [
    {
     "name": "stdout",
     "output_type": "stream",
     "text": [
      "freq_encode column was added\n"
     ]
    }
   ],
   "source": [
    "add_frequency_encoding(data,'E')"
   ]
  },
  {
   "cell_type": "code",
   "execution_count": 109,
   "metadata": {},
   "outputs": [
    {
     "name": "stdout",
     "output_type": "stream",
     "text": [
      "freq_encode column was added\n"
     ]
    }
   ],
   "source": [
    "add_frequency_encoding(data,'F')"
   ]
  },
  {
   "cell_type": "code",
   "execution_count": 110,
   "metadata": {},
   "outputs": [
    {
     "data": {
      "text/html": [
       "<div>\n",
       "<style scoped>\n",
       "    .dataframe tbody tr th:only-of-type {\n",
       "        vertical-align: middle;\n",
       "    }\n",
       "\n",
       "    .dataframe tbody tr th {\n",
       "        vertical-align: top;\n",
       "    }\n",
       "\n",
       "    .dataframe thead th {\n",
       "        text-align: right;\n",
       "    }\n",
       "</style>\n",
       "<table border=\"1\" class=\"dataframe\">\n",
       "  <thead>\n",
       "    <tr style=\"text-align: right;\">\n",
       "      <th></th>\n",
       "      <th>Unnamed: 0</th>\n",
       "      <th>Unnamed: 0.1</th>\n",
       "      <th>Unnamed: 0.1.1</th>\n",
       "      <th>B</th>\n",
       "      <th>C</th>\n",
       "      <th>D</th>\n",
       "      <th>E</th>\n",
       "      <th>F</th>\n",
       "      <th>G</th>\n",
       "      <th>H</th>\n",
       "      <th>...</th>\n",
       "      <th>2019_08</th>\n",
       "      <th>2019_09</th>\n",
       "      <th>2019_10</th>\n",
       "      <th>2019_11</th>\n",
       "      <th>2019_12</th>\n",
       "      <th>ER</th>\n",
       "      <th>freq_encode_C</th>\n",
       "      <th>freq_encode_D</th>\n",
       "      <th>freq_encode_E</th>\n",
       "      <th>freq_encode_F</th>\n",
       "    </tr>\n",
       "  </thead>\n",
       "  <tbody>\n",
       "    <tr>\n",
       "      <th>0</th>\n",
       "      <td>34992</td>\n",
       "      <td>1453</td>\n",
       "      <td>1453</td>\n",
       "      <td>A123040</td>\n",
       "      <td>엠에스오토텍</td>\n",
       "      <td>자동차 및 관련부품</td>\n",
       "      <td>차체부품</td>\n",
       "      <td>코스닥</td>\n",
       "      <td>5130</td>\n",
       "      <td>746</td>\n",
       "      <td>...</td>\n",
       "      <td>0</td>\n",
       "      <td>0</td>\n",
       "      <td>0</td>\n",
       "      <td>0</td>\n",
       "      <td>0</td>\n",
       "      <td>0.000000</td>\n",
       "      <td>0.000511</td>\n",
       "      <td>0.073052</td>\n",
       "      <td>0.005624</td>\n",
       "      <td>0.602022</td>\n",
       "    </tr>\n",
       "    <tr>\n",
       "      <th>1</th>\n",
       "      <td>34993</td>\n",
       "      <td>3409</td>\n",
       "      <td>1453</td>\n",
       "      <td>A123040</td>\n",
       "      <td>엠에스오토텍</td>\n",
       "      <td>자동차 및 관련부품</td>\n",
       "      <td>차체부품</td>\n",
       "      <td>코스닥</td>\n",
       "      <td>5160</td>\n",
       "      <td>751</td>\n",
       "      <td>...</td>\n",
       "      <td>0</td>\n",
       "      <td>0</td>\n",
       "      <td>0</td>\n",
       "      <td>0</td>\n",
       "      <td>0</td>\n",
       "      <td>0.584795</td>\n",
       "      <td>0.000511</td>\n",
       "      <td>0.073052</td>\n",
       "      <td>0.005624</td>\n",
       "      <td>0.602022</td>\n",
       "    </tr>\n",
       "    <tr>\n",
       "      <th>2</th>\n",
       "      <td>34994</td>\n",
       "      <td>5365</td>\n",
       "      <td>1453</td>\n",
       "      <td>A123040</td>\n",
       "      <td>엠에스오토텍</td>\n",
       "      <td>자동차 및 관련부품</td>\n",
       "      <td>차체부품</td>\n",
       "      <td>코스닥</td>\n",
       "      <td>5890</td>\n",
       "      <td>856.81</td>\n",
       "      <td>...</td>\n",
       "      <td>0</td>\n",
       "      <td>0</td>\n",
       "      <td>0</td>\n",
       "      <td>0</td>\n",
       "      <td>0</td>\n",
       "      <td>14.147287</td>\n",
       "      <td>0.000511</td>\n",
       "      <td>0.073052</td>\n",
       "      <td>0.005624</td>\n",
       "      <td>0.602022</td>\n",
       "    </tr>\n",
       "    <tr>\n",
       "      <th>3</th>\n",
       "      <td>34995</td>\n",
       "      <td>7321</td>\n",
       "      <td>1453</td>\n",
       "      <td>A123040</td>\n",
       "      <td>엠에스오토텍</td>\n",
       "      <td>자동차 및 관련부품</td>\n",
       "      <td>차체부품</td>\n",
       "      <td>코스닥</td>\n",
       "      <td>5690</td>\n",
       "      <td>827.71</td>\n",
       "      <td>...</td>\n",
       "      <td>0</td>\n",
       "      <td>0</td>\n",
       "      <td>0</td>\n",
       "      <td>0</td>\n",
       "      <td>0</td>\n",
       "      <td>-3.395586</td>\n",
       "      <td>0.000511</td>\n",
       "      <td>0.073052</td>\n",
       "      <td>0.005624</td>\n",
       "      <td>0.602022</td>\n",
       "    </tr>\n",
       "    <tr>\n",
       "      <th>4</th>\n",
       "      <td>34996</td>\n",
       "      <td>9277</td>\n",
       "      <td>1453</td>\n",
       "      <td>A123040</td>\n",
       "      <td>엠에스오토텍</td>\n",
       "      <td>자동차 및 관련부품</td>\n",
       "      <td>차체부품</td>\n",
       "      <td>코스닥</td>\n",
       "      <td>5150</td>\n",
       "      <td>749.16</td>\n",
       "      <td>...</td>\n",
       "      <td>0</td>\n",
       "      <td>0</td>\n",
       "      <td>0</td>\n",
       "      <td>0</td>\n",
       "      <td>0</td>\n",
       "      <td>-9.490334</td>\n",
       "      <td>0.000511</td>\n",
       "      <td>0.073052</td>\n",
       "      <td>0.005624</td>\n",
       "      <td>0.602022</td>\n",
       "    </tr>\n",
       "  </tbody>\n",
       "</table>\n",
       "<p>5 rows × 76 columns</p>\n",
       "</div>"
      ],
      "text/plain": [
       "   Unnamed: 0  Unnamed: 0.1  Unnamed: 0.1.1        B       C           D  \\\n",
       "0       34992          1453            1453  A123040  엠에스오토텍  자동차 및 관련부품   \n",
       "1       34993          3409            1453  A123040  엠에스오토텍  자동차 및 관련부품   \n",
       "2       34994          5365            1453  A123040  엠에스오토텍  자동차 및 관련부품   \n",
       "3       34995          7321            1453  A123040  엠에스오토텍  자동차 및 관련부품   \n",
       "4       34996          9277            1453  A123040  엠에스오토텍  자동차 및 관련부품   \n",
       "\n",
       "      E    F     G       H  ...  2019_08  2019_09  2019_10  2019_11  2019_12  \\\n",
       "0  차체부품  코스닥  5130     746  ...        0        0        0        0        0   \n",
       "1  차체부품  코스닥  5160     751  ...        0        0        0        0        0   \n",
       "2  차체부품  코스닥  5890  856.81  ...        0        0        0        0        0   \n",
       "3  차체부품  코스닥  5690  827.71  ...        0        0        0        0        0   \n",
       "4  차체부품  코스닥  5150  749.16  ...        0        0        0        0        0   \n",
       "\n",
       "          ER  freq_encode_C  freq_encode_D  freq_encode_E  freq_encode_F  \n",
       "0   0.000000       0.000511       0.073052       0.005624       0.602022  \n",
       "1   0.584795       0.000511       0.073052       0.005624       0.602022  \n",
       "2  14.147287       0.000511       0.073052       0.005624       0.602022  \n",
       "3  -3.395586       0.000511       0.073052       0.005624       0.602022  \n",
       "4  -9.490334       0.000511       0.073052       0.005624       0.602022  \n",
       "\n",
       "[5 rows x 76 columns]"
      ]
     },
     "execution_count": 110,
     "metadata": {},
     "output_type": "execute_result"
    }
   ],
   "source": [
    "data.head()"
   ]
  },
  {
   "cell_type": "code",
   "execution_count": 111,
   "metadata": {},
   "outputs": [],
   "source": [
    "data.drop(['C','D','E','F'],axis='columns', inplace=True)"
   ]
  },
  {
   "cell_type": "code",
   "execution_count": 112,
   "metadata": {},
   "outputs": [
    {
     "data": {
      "text/html": [
       "<div>\n",
       "<style scoped>\n",
       "    .dataframe tbody tr th:only-of-type {\n",
       "        vertical-align: middle;\n",
       "    }\n",
       "\n",
       "    .dataframe tbody tr th {\n",
       "        vertical-align: top;\n",
       "    }\n",
       "\n",
       "    .dataframe thead th {\n",
       "        text-align: right;\n",
       "    }\n",
       "</style>\n",
       "<table border=\"1\" class=\"dataframe\">\n",
       "  <thead>\n",
       "    <tr style=\"text-align: right;\">\n",
       "      <th></th>\n",
       "      <th>Unnamed: 0</th>\n",
       "      <th>Unnamed: 0.1</th>\n",
       "      <th>Unnamed: 0.1.1</th>\n",
       "      <th>B</th>\n",
       "      <th>G</th>\n",
       "      <th>H</th>\n",
       "      <th>I</th>\n",
       "      <th>J</th>\n",
       "      <th>K</th>\n",
       "      <th>L</th>\n",
       "      <th>...</th>\n",
       "      <th>2019_08</th>\n",
       "      <th>2019_09</th>\n",
       "      <th>2019_10</th>\n",
       "      <th>2019_11</th>\n",
       "      <th>2019_12</th>\n",
       "      <th>ER</th>\n",
       "      <th>freq_encode_C</th>\n",
       "      <th>freq_encode_D</th>\n",
       "      <th>freq_encode_E</th>\n",
       "      <th>freq_encode_F</th>\n",
       "    </tr>\n",
       "  </thead>\n",
       "  <tbody>\n",
       "    <tr>\n",
       "      <th>0</th>\n",
       "      <td>34992</td>\n",
       "      <td>1453</td>\n",
       "      <td>1453</td>\n",
       "      <td>A123040</td>\n",
       "      <td>5130</td>\n",
       "      <td>746</td>\n",
       "      <td>-3.752345</td>\n",
       "      <td>-3.932584</td>\n",
       "      <td>16.5</td>\n",
       "      <td>1.6</td>\n",
       "      <td>...</td>\n",
       "      <td>0</td>\n",
       "      <td>0</td>\n",
       "      <td>0</td>\n",
       "      <td>0</td>\n",
       "      <td>0</td>\n",
       "      <td>0.000000</td>\n",
       "      <td>0.000511</td>\n",
       "      <td>0.073052</td>\n",
       "      <td>0.005624</td>\n",
       "      <td>0.602022</td>\n",
       "    </tr>\n",
       "    <tr>\n",
       "      <th>1</th>\n",
       "      <td>34993</td>\n",
       "      <td>3409</td>\n",
       "      <td>1453</td>\n",
       "      <td>A123040</td>\n",
       "      <td>5160</td>\n",
       "      <td>751</td>\n",
       "      <td>3.200000</td>\n",
       "      <td>5.521472</td>\n",
       "      <td>16.5</td>\n",
       "      <td>1.6</td>\n",
       "      <td>...</td>\n",
       "      <td>0</td>\n",
       "      <td>0</td>\n",
       "      <td>0</td>\n",
       "      <td>0</td>\n",
       "      <td>0</td>\n",
       "      <td>0.584795</td>\n",
       "      <td>0.000511</td>\n",
       "      <td>0.073052</td>\n",
       "      <td>0.005624</td>\n",
       "      <td>0.602022</td>\n",
       "    </tr>\n",
       "    <tr>\n",
       "      <th>2</th>\n",
       "      <td>34994</td>\n",
       "      <td>5365</td>\n",
       "      <td>1453</td>\n",
       "      <td>A123040</td>\n",
       "      <td>5890</td>\n",
       "      <td>856.81</td>\n",
       "      <td>6.130000</td>\n",
       "      <td>0.340716</td>\n",
       "      <td>16.5</td>\n",
       "      <td>1.6</td>\n",
       "      <td>...</td>\n",
       "      <td>0</td>\n",
       "      <td>0</td>\n",
       "      <td>0</td>\n",
       "      <td>0</td>\n",
       "      <td>0</td>\n",
       "      <td>14.147287</td>\n",
       "      <td>0.000511</td>\n",
       "      <td>0.073052</td>\n",
       "      <td>0.005624</td>\n",
       "      <td>0.602022</td>\n",
       "    </tr>\n",
       "    <tr>\n",
       "      <th>3</th>\n",
       "      <td>34995</td>\n",
       "      <td>7321</td>\n",
       "      <td>1453</td>\n",
       "      <td>A123040</td>\n",
       "      <td>5690</td>\n",
       "      <td>827.71</td>\n",
       "      <td>0.350000</td>\n",
       "      <td>-1.215278</td>\n",
       "      <td>31.2</td>\n",
       "      <td>3.9</td>\n",
       "      <td>...</td>\n",
       "      <td>0</td>\n",
       "      <td>0</td>\n",
       "      <td>0</td>\n",
       "      <td>0</td>\n",
       "      <td>0</td>\n",
       "      <td>-3.395586</td>\n",
       "      <td>0.000511</td>\n",
       "      <td>0.073052</td>\n",
       "      <td>0.005624</td>\n",
       "      <td>0.602022</td>\n",
       "    </tr>\n",
       "    <tr>\n",
       "      <th>4</th>\n",
       "      <td>34996</td>\n",
       "      <td>9277</td>\n",
       "      <td>1453</td>\n",
       "      <td>A123040</td>\n",
       "      <td>5150</td>\n",
       "      <td>749.16</td>\n",
       "      <td>-7.710000</td>\n",
       "      <td>-5.850091</td>\n",
       "      <td>20.3</td>\n",
       "      <td>2.5</td>\n",
       "      <td>...</td>\n",
       "      <td>0</td>\n",
       "      <td>0</td>\n",
       "      <td>0</td>\n",
       "      <td>0</td>\n",
       "      <td>0</td>\n",
       "      <td>-9.490334</td>\n",
       "      <td>0.000511</td>\n",
       "      <td>0.073052</td>\n",
       "      <td>0.005624</td>\n",
       "      <td>0.602022</td>\n",
       "    </tr>\n",
       "  </tbody>\n",
       "</table>\n",
       "<p>5 rows × 72 columns</p>\n",
       "</div>"
      ],
      "text/plain": [
       "   Unnamed: 0  Unnamed: 0.1  Unnamed: 0.1.1        B     G       H         I  \\\n",
       "0       34992          1453            1453  A123040  5130     746 -3.752345   \n",
       "1       34993          3409            1453  A123040  5160     751  3.200000   \n",
       "2       34994          5365            1453  A123040  5890  856.81  6.130000   \n",
       "3       34995          7321            1453  A123040  5690  827.71  0.350000   \n",
       "4       34996          9277            1453  A123040  5150  749.16 -7.710000   \n",
       "\n",
       "          J     K    L  ...  2019_08  2019_09  2019_10  2019_11  2019_12  \\\n",
       "0 -3.932584  16.5  1.6  ...        0        0        0        0        0   \n",
       "1  5.521472  16.5  1.6  ...        0        0        0        0        0   \n",
       "2  0.340716  16.5  1.6  ...        0        0        0        0        0   \n",
       "3 -1.215278  31.2  3.9  ...        0        0        0        0        0   \n",
       "4 -5.850091  20.3  2.5  ...        0        0        0        0        0   \n",
       "\n",
       "          ER  freq_encode_C  freq_encode_D  freq_encode_E  freq_encode_F  \n",
       "0   0.000000       0.000511       0.073052       0.005624       0.602022  \n",
       "1   0.584795       0.000511       0.073052       0.005624       0.602022  \n",
       "2  14.147287       0.000511       0.073052       0.005624       0.602022  \n",
       "3  -3.395586       0.000511       0.073052       0.005624       0.602022  \n",
       "4  -9.490334       0.000511       0.073052       0.005624       0.602022  \n",
       "\n",
       "[5 rows x 72 columns]"
      ]
     },
     "execution_count": 112,
     "metadata": {},
     "output_type": "execute_result"
    }
   ],
   "source": [
    "data.head()"
   ]
  },
  {
   "cell_type": "markdown",
   "metadata": {},
   "source": [
    "# train, valid 나누기"
   ]
  },
  {
   "cell_type": "code",
   "execution_count": 32,
   "metadata": {},
   "outputs": [
    {
     "data": {
      "text/plain": [
       "70416"
      ]
     },
     "execution_count": 32,
     "metadata": {},
     "output_type": "execute_result"
    }
   ],
   "source": [
    "len(data)"
   ]
  },
  {
   "cell_type": "code",
   "execution_count": 114,
   "metadata": {},
   "outputs": [],
   "source": [
    "a=data.head(0)"
   ]
  },
  {
   "cell_type": "code",
   "execution_count": 115,
   "metadata": {},
   "outputs": [
    {
     "data": {
      "text/html": [
       "<div>\n",
       "<style scoped>\n",
       "    .dataframe tbody tr th:only-of-type {\n",
       "        vertical-align: middle;\n",
       "    }\n",
       "\n",
       "    .dataframe tbody tr th {\n",
       "        vertical-align: top;\n",
       "    }\n",
       "\n",
       "    .dataframe thead th {\n",
       "        text-align: right;\n",
       "    }\n",
       "</style>\n",
       "<table border=\"1\" class=\"dataframe\">\n",
       "  <thead>\n",
       "    <tr style=\"text-align: right;\">\n",
       "      <th></th>\n",
       "      <th>Unnamed: 0</th>\n",
       "      <th>Unnamed: 0.1</th>\n",
       "      <th>Unnamed: 0.1.1</th>\n",
       "      <th>B</th>\n",
       "      <th>G</th>\n",
       "      <th>H</th>\n",
       "      <th>I</th>\n",
       "      <th>J</th>\n",
       "      <th>K</th>\n",
       "      <th>L</th>\n",
       "      <th>...</th>\n",
       "      <th>2019_08</th>\n",
       "      <th>2019_09</th>\n",
       "      <th>2019_10</th>\n",
       "      <th>2019_11</th>\n",
       "      <th>2019_12</th>\n",
       "      <th>ER</th>\n",
       "      <th>freq_encode_C</th>\n",
       "      <th>freq_encode_D</th>\n",
       "      <th>freq_encode_E</th>\n",
       "      <th>freq_encode_F</th>\n",
       "    </tr>\n",
       "  </thead>\n",
       "  <tbody>\n",
       "    <tr>\n",
       "      <th>0</th>\n",
       "      <td>34993</td>\n",
       "      <td>3409</td>\n",
       "      <td>1453</td>\n",
       "      <td>A123040</td>\n",
       "      <td>5160</td>\n",
       "      <td>751</td>\n",
       "      <td>3.2</td>\n",
       "      <td>5.521472</td>\n",
       "      <td>16.5</td>\n",
       "      <td>1.6</td>\n",
       "      <td>...</td>\n",
       "      <td>0</td>\n",
       "      <td>0</td>\n",
       "      <td>0</td>\n",
       "      <td>0</td>\n",
       "      <td>0</td>\n",
       "      <td>0.584795</td>\n",
       "      <td>0.000511</td>\n",
       "      <td>0.073052</td>\n",
       "      <td>0.005624</td>\n",
       "      <td>0.602022</td>\n",
       "    </tr>\n",
       "  </tbody>\n",
       "</table>\n",
       "<p>1 rows × 72 columns</p>\n",
       "</div>"
      ],
      "text/plain": [
       "   Unnamed: 0  Unnamed: 0.1  Unnamed: 0.1.1        B     G    H    I  \\\n",
       "0       34993          3409            1453  A123040  5160  751  3.2   \n",
       "\n",
       "          J     K    L  ...  2019_08  2019_09  2019_10  2019_11  2019_12  \\\n",
       "0  5.521472  16.5  1.6  ...        0        0        0        0        0   \n",
       "\n",
       "         ER  freq_encode_C  freq_encode_D  freq_encode_E  freq_encode_F  \n",
       "0  0.584795       0.000511       0.073052       0.005624       0.602022  \n",
       "\n",
       "[1 rows x 72 columns]"
      ]
     },
     "execution_count": 115,
     "metadata": {},
     "output_type": "execute_result"
    }
   ],
   "source": [
    "a.append(data.loc[1],ignore_index=True)"
   ]
  },
  {
   "cell_type": "code",
   "execution_count": 131,
   "metadata": {},
   "outputs": [],
   "source": [
    "train=data.head(0)\n",
    "valid=data.head(0)"
   ]
  },
  {
   "cell_type": "code",
   "execution_count": 117,
   "metadata": {},
   "outputs": [
    {
     "data": {
      "text/plain": [
       "4"
      ]
     },
     "execution_count": 117,
     "metadata": {},
     "output_type": "execute_result"
    }
   ],
   "source": [
    "1300%36"
   ]
  },
  {
   "cell_type": "code",
   "execution_count": 132,
   "metadata": {},
   "outputs": [],
   "source": [
    "for i in range(len(data)): # 36중 29개기 train\n",
    "    if i%36 <=29 :\n",
    "        train=train.append(data.loc[i],ignore_index=True)\n",
    "    else:\n",
    "        valid=valid.append(data.loc[i],ignore_index=True)"
   ]
  },
  {
   "cell_type": "code",
   "execution_count": 133,
   "metadata": {},
   "outputs": [
    {
     "data": {
      "text/html": [
       "<div>\n",
       "<style scoped>\n",
       "    .dataframe tbody tr th:only-of-type {\n",
       "        vertical-align: middle;\n",
       "    }\n",
       "\n",
       "    .dataframe tbody tr th {\n",
       "        vertical-align: top;\n",
       "    }\n",
       "\n",
       "    .dataframe thead th {\n",
       "        text-align: right;\n",
       "    }\n",
       "</style>\n",
       "<table border=\"1\" class=\"dataframe\">\n",
       "  <thead>\n",
       "    <tr style=\"text-align: right;\">\n",
       "      <th></th>\n",
       "      <th>Unnamed: 0</th>\n",
       "      <th>Unnamed: 0.1</th>\n",
       "      <th>Unnamed: 0.1.1</th>\n",
       "      <th>B</th>\n",
       "      <th>G</th>\n",
       "      <th>H</th>\n",
       "      <th>I</th>\n",
       "      <th>J</th>\n",
       "      <th>K</th>\n",
       "      <th>L</th>\n",
       "      <th>...</th>\n",
       "      <th>2019_08</th>\n",
       "      <th>2019_09</th>\n",
       "      <th>2019_10</th>\n",
       "      <th>2019_11</th>\n",
       "      <th>2019_12</th>\n",
       "      <th>ER</th>\n",
       "      <th>freq_encode_C</th>\n",
       "      <th>freq_encode_D</th>\n",
       "      <th>freq_encode_E</th>\n",
       "      <th>freq_encode_F</th>\n",
       "    </tr>\n",
       "  </thead>\n",
       "  <tbody>\n",
       "    <tr>\n",
       "      <th>0</th>\n",
       "      <td>34992</td>\n",
       "      <td>1453</td>\n",
       "      <td>1453</td>\n",
       "      <td>A123040</td>\n",
       "      <td>5130</td>\n",
       "      <td>746</td>\n",
       "      <td>-3.752345</td>\n",
       "      <td>-3.932584</td>\n",
       "      <td>16.5</td>\n",
       "      <td>1.6</td>\n",
       "      <td>...</td>\n",
       "      <td>0</td>\n",
       "      <td>0</td>\n",
       "      <td>0</td>\n",
       "      <td>0</td>\n",
       "      <td>0</td>\n",
       "      <td>0.000000</td>\n",
       "      <td>0.000511</td>\n",
       "      <td>0.073052</td>\n",
       "      <td>0.005624</td>\n",
       "      <td>0.602022</td>\n",
       "    </tr>\n",
       "    <tr>\n",
       "      <th>1</th>\n",
       "      <td>34993</td>\n",
       "      <td>3409</td>\n",
       "      <td>1453</td>\n",
       "      <td>A123040</td>\n",
       "      <td>5160</td>\n",
       "      <td>751</td>\n",
       "      <td>3.200000</td>\n",
       "      <td>5.521472</td>\n",
       "      <td>16.5</td>\n",
       "      <td>1.6</td>\n",
       "      <td>...</td>\n",
       "      <td>0</td>\n",
       "      <td>0</td>\n",
       "      <td>0</td>\n",
       "      <td>0</td>\n",
       "      <td>0</td>\n",
       "      <td>0.584795</td>\n",
       "      <td>0.000511</td>\n",
       "      <td>0.073052</td>\n",
       "      <td>0.005624</td>\n",
       "      <td>0.602022</td>\n",
       "    </tr>\n",
       "    <tr>\n",
       "      <th>2</th>\n",
       "      <td>34994</td>\n",
       "      <td>5365</td>\n",
       "      <td>1453</td>\n",
       "      <td>A123040</td>\n",
       "      <td>5890</td>\n",
       "      <td>856.81</td>\n",
       "      <td>6.130000</td>\n",
       "      <td>0.340716</td>\n",
       "      <td>16.5</td>\n",
       "      <td>1.6</td>\n",
       "      <td>...</td>\n",
       "      <td>0</td>\n",
       "      <td>0</td>\n",
       "      <td>0</td>\n",
       "      <td>0</td>\n",
       "      <td>0</td>\n",
       "      <td>14.147287</td>\n",
       "      <td>0.000511</td>\n",
       "      <td>0.073052</td>\n",
       "      <td>0.005624</td>\n",
       "      <td>0.602022</td>\n",
       "    </tr>\n",
       "    <tr>\n",
       "      <th>3</th>\n",
       "      <td>34995</td>\n",
       "      <td>7321</td>\n",
       "      <td>1453</td>\n",
       "      <td>A123040</td>\n",
       "      <td>5690</td>\n",
       "      <td>827.71</td>\n",
       "      <td>0.350000</td>\n",
       "      <td>-1.215278</td>\n",
       "      <td>31.2</td>\n",
       "      <td>3.9</td>\n",
       "      <td>...</td>\n",
       "      <td>0</td>\n",
       "      <td>0</td>\n",
       "      <td>0</td>\n",
       "      <td>0</td>\n",
       "      <td>0</td>\n",
       "      <td>-3.395586</td>\n",
       "      <td>0.000511</td>\n",
       "      <td>0.073052</td>\n",
       "      <td>0.005624</td>\n",
       "      <td>0.602022</td>\n",
       "    </tr>\n",
       "    <tr>\n",
       "      <th>4</th>\n",
       "      <td>34996</td>\n",
       "      <td>9277</td>\n",
       "      <td>1453</td>\n",
       "      <td>A123040</td>\n",
       "      <td>5150</td>\n",
       "      <td>749.16</td>\n",
       "      <td>-7.710000</td>\n",
       "      <td>-5.850091</td>\n",
       "      <td>20.3</td>\n",
       "      <td>2.5</td>\n",
       "      <td>...</td>\n",
       "      <td>0</td>\n",
       "      <td>0</td>\n",
       "      <td>0</td>\n",
       "      <td>0</td>\n",
       "      <td>0</td>\n",
       "      <td>-9.490334</td>\n",
       "      <td>0.000511</td>\n",
       "      <td>0.073052</td>\n",
       "      <td>0.005624</td>\n",
       "      <td>0.602022</td>\n",
       "    </tr>\n",
       "  </tbody>\n",
       "</table>\n",
       "<p>5 rows × 72 columns</p>\n",
       "</div>"
      ],
      "text/plain": [
       "   Unnamed: 0  Unnamed: 0.1  Unnamed: 0.1.1        B     G       H         I  \\\n",
       "0       34992          1453            1453  A123040  5130     746 -3.752345   \n",
       "1       34993          3409            1453  A123040  5160     751  3.200000   \n",
       "2       34994          5365            1453  A123040  5890  856.81  6.130000   \n",
       "3       34995          7321            1453  A123040  5690  827.71  0.350000   \n",
       "4       34996          9277            1453  A123040  5150  749.16 -7.710000   \n",
       "\n",
       "          J     K    L  ...  2019_08  2019_09  2019_10  2019_11  2019_12  \\\n",
       "0 -3.932584  16.5  1.6  ...        0        0        0        0        0   \n",
       "1  5.521472  16.5  1.6  ...        0        0        0        0        0   \n",
       "2  0.340716  16.5  1.6  ...        0        0        0        0        0   \n",
       "3 -1.215278  31.2  3.9  ...        0        0        0        0        0   \n",
       "4 -5.850091  20.3  2.5  ...        0        0        0        0        0   \n",
       "\n",
       "          ER  freq_encode_C  freq_encode_D  freq_encode_E  freq_encode_F  \n",
       "0   0.000000       0.000511       0.073052       0.005624       0.602022  \n",
       "1   0.584795       0.000511       0.073052       0.005624       0.602022  \n",
       "2  14.147287       0.000511       0.073052       0.005624       0.602022  \n",
       "3  -3.395586       0.000511       0.073052       0.005624       0.602022  \n",
       "4  -9.490334       0.000511       0.073052       0.005624       0.602022  \n",
       "\n",
       "[5 rows x 72 columns]"
      ]
     },
     "execution_count": 133,
     "metadata": {},
     "output_type": "execute_result"
    }
   ],
   "source": [
    "train.head()"
   ]
  },
  {
   "cell_type": "code",
   "execution_count": null,
   "metadata": {},
   "outputs": [],
   "source": []
  },
  {
   "cell_type": "code",
   "execution_count": null,
   "metadata": {},
   "outputs": [],
   "source": []
  },
  {
   "cell_type": "code",
   "execution_count": null,
   "metadata": {},
   "outputs": [],
   "source": []
  },
  {
   "cell_type": "code",
   "execution_count": null,
   "metadata": {},
   "outputs": [],
   "source": []
  },
  {
   "cell_type": "code",
   "execution_count": 134,
   "metadata": {},
   "outputs": [
    {
     "name": "stdout",
     "output_type": "stream",
     "text": [
      "Parse progress: |█████████████████████████████████████████████████████████| 100%\n",
      "Parse progress: |█████████████████████████████████████████████████████████| 100%\n"
     ]
    }
   ],
   "source": [
    "train= h2o.H2OFrame(train)\n",
    "valid= h2o.H2OFrame(valid)"
   ]
  },
  {
   "cell_type": "code",
   "execution_count": 135,
   "metadata": {},
   "outputs": [],
   "source": [
    "x=train.columns# G뺴기\n",
    "y='G'\n",
    "x.remove(y)"
   ]
  },
  {
   "cell_type": "code",
   "execution_count": 136,
   "metadata": {},
   "outputs": [],
   "source": [
    "valid_y= valid['G']\n",
    "\n",
    "valid_x=valid.columns\n",
    "valid_x.remove('G')"
   ]
  },
  {
   "cell_type": "code",
   "execution_count": 137,
   "metadata": {},
   "outputs": [],
   "source": [
    "AutoML=H2OAutoML(max_models=20, seed=1)"
   ]
  },
  {
   "cell_type": "code",
   "execution_count": 139,
   "metadata": {},
   "outputs": [
    {
     "name": "stdout",
     "output_type": "stream",
     "text": [
      "AutoML progress: |█\n",
      "20:17:53.710: AutoML: XGBoost is not available; skipping it.\n",
      "22:23:43.554: New models will be added to existing leaderboard AutoML_20201002_201753595@@G (leaderboard frame=null) with already 16 models.\n",
      "22:23:43.600: AutoML: XGBoost is not available; skipping it.\n",
      "\n",
      "██████████████Failed polling AutoML progress log: [WinError 32] 다른 프로세스가 파일을 사용 중이기 때문에 프로세스가 액세스 할 수 없습니다: 'C:\\\\Users\\\\Public\\\\Documents\\\\ESTsoft\\\\CreatorTemp\\\\tmp02kaffyq.csv'\n",
      "█████████████████████████████████████████| 100%\n",
      "\n",
      "02:22:04.905: StackedEnsemble_BestOfFamily_AutoML_20201002_222343 [StackedEnsemble best (built using top model from each algorithm type)] failed: water.exceptions.H2OIllegalArgumentException: Failed to find the xval predictions frame. . .  Looks like keep_cross_validation_predictions wasn't set when building the models, or the frame was deleted.\n",
      "02:22:05.913: StackedEnsemble_AllModels_AutoML_20201002_222343 [StackedEnsemble all (built using all AutoML models)] failed: water.exceptions.H2OIllegalArgumentException: Failed to find the xval predictions frame. . .  Looks like keep_cross_validation_predictions wasn't set when building the models, or the frame was deleted.\n",
      "\n"
     ]
    }
   ],
   "source": [
    "AutoML.train(x=x, y=y, training_frame=train)"
   ]
  },
  {
   "cell_type": "code",
   "execution_count": 140,
   "metadata": {},
   "outputs": [
    {
     "data": {
      "text/html": [
       "<table>\n",
       "<thead>\n",
       "<tr><th>model_id                                           </th><th style=\"text-align: right;\">  mean_residual_deviance</th><th style=\"text-align: right;\">    rmse</th><th style=\"text-align: right;\">        mse</th><th style=\"text-align: right;\">      mae</th><th style=\"text-align: right;\">     rmsle</th></tr>\n",
       "</thead>\n",
       "<tbody>\n",
       "<tr><td>GBM_grid__1_AutoML_20201002_201753_model_2         </td><td style=\"text-align: right;\">             2.3296e+08 </td><td style=\"text-align: right;\"> 15263  </td><td style=\"text-align: right;\">2.3296e+08 </td><td style=\"text-align: right;\">  1764.33</td><td style=\"text-align: right;\">nan       </td></tr>\n",
       "<tr><td>GBM_grid__1_AutoML_20201002_222343_model_2         </td><td style=\"text-align: right;\">             2.3296e+08 </td><td style=\"text-align: right;\"> 15263  </td><td style=\"text-align: right;\">2.3296e+08 </td><td style=\"text-align: right;\">  1764.33</td><td style=\"text-align: right;\">nan       </td></tr>\n",
       "<tr><td>XRT_1_AutoML_20201002_201753                       </td><td style=\"text-align: right;\">             2.36292e+08</td><td style=\"text-align: right;\"> 15371.8</td><td style=\"text-align: right;\">2.36292e+08</td><td style=\"text-align: right;\">  2694.49</td><td style=\"text-align: right;\">  0.535526</td></tr>\n",
       "<tr><td>XRT_1_AutoML_20201002_222343                       </td><td style=\"text-align: right;\">             2.36292e+08</td><td style=\"text-align: right;\"> 15371.8</td><td style=\"text-align: right;\">2.36292e+08</td><td style=\"text-align: right;\">  2694.49</td><td style=\"text-align: right;\">  0.535526</td></tr>\n",
       "<tr><td>DRF_1_AutoML_20201002_222343                       </td><td style=\"text-align: right;\">             2.59406e+08</td><td style=\"text-align: right;\"> 16106.1</td><td style=\"text-align: right;\">2.59406e+08</td><td style=\"text-align: right;\">  2289.82</td><td style=\"text-align: right;\">  0.458997</td></tr>\n",
       "<tr><td>DRF_1_AutoML_20201002_201753                       </td><td style=\"text-align: right;\">             2.59406e+08</td><td style=\"text-align: right;\"> 16106.1</td><td style=\"text-align: right;\">2.59406e+08</td><td style=\"text-align: right;\">  2289.82</td><td style=\"text-align: right;\">  0.458997</td></tr>\n",
       "<tr><td>GBM_4_AutoML_20201002_201753                       </td><td style=\"text-align: right;\">             2.65436e+08</td><td style=\"text-align: right;\"> 16292.2</td><td style=\"text-align: right;\">2.65436e+08</td><td style=\"text-align: right;\">  3334.51</td><td style=\"text-align: right;\">nan       </td></tr>\n",
       "<tr><td>GBM_4_AutoML_20201002_222343                       </td><td style=\"text-align: right;\">             2.65436e+08</td><td style=\"text-align: right;\"> 16292.2</td><td style=\"text-align: right;\">2.65436e+08</td><td style=\"text-align: right;\">  3334.51</td><td style=\"text-align: right;\">nan       </td></tr>\n",
       "<tr><td>GBM_grid__1_AutoML_20201002_201753_model_4         </td><td style=\"text-align: right;\">             2.75247e+08</td><td style=\"text-align: right;\"> 16590.6</td><td style=\"text-align: right;\">2.75247e+08</td><td style=\"text-align: right;\">  2965.14</td><td style=\"text-align: right;\">nan       </td></tr>\n",
       "<tr><td>GBM_grid__1_AutoML_20201002_222343_model_4         </td><td style=\"text-align: right;\">             2.75247e+08</td><td style=\"text-align: right;\"> 16590.6</td><td style=\"text-align: right;\">2.75247e+08</td><td style=\"text-align: right;\">  2965.14</td><td style=\"text-align: right;\">nan       </td></tr>\n",
       "<tr><td>GBM_3_AutoML_20201002_201753                       </td><td style=\"text-align: right;\">             2.78801e+08</td><td style=\"text-align: right;\"> 16697.3</td><td style=\"text-align: right;\">2.78801e+08</td><td style=\"text-align: right;\">  4008.48</td><td style=\"text-align: right;\">nan       </td></tr>\n",
       "<tr><td>GBM_3_AutoML_20201002_222343                       </td><td style=\"text-align: right;\">             2.78801e+08</td><td style=\"text-align: right;\"> 16697.3</td><td style=\"text-align: right;\">2.78801e+08</td><td style=\"text-align: right;\">  4008.48</td><td style=\"text-align: right;\">nan       </td></tr>\n",
       "<tr><td>GBM_1_AutoML_20201002_222343                       </td><td style=\"text-align: right;\">             2.89033e+08</td><td style=\"text-align: right;\"> 17001  </td><td style=\"text-align: right;\">2.89033e+08</td><td style=\"text-align: right;\">  3543.86</td><td style=\"text-align: right;\">nan       </td></tr>\n",
       "<tr><td>GBM_1_AutoML_20201002_201753                       </td><td style=\"text-align: right;\">             2.89033e+08</td><td style=\"text-align: right;\"> 17001  </td><td style=\"text-align: right;\">2.89033e+08</td><td style=\"text-align: right;\">  3543.86</td><td style=\"text-align: right;\">nan       </td></tr>\n",
       "<tr><td>GBM_grid__1_AutoML_20201002_201753_model_6         </td><td style=\"text-align: right;\">             2.95887e+08</td><td style=\"text-align: right;\"> 17201.4</td><td style=\"text-align: right;\">2.95887e+08</td><td style=\"text-align: right;\">  3555.59</td><td style=\"text-align: right;\">nan       </td></tr>\n",
       "<tr><td>GBM_grid__1_AutoML_20201002_222343_model_6         </td><td style=\"text-align: right;\">             2.95887e+08</td><td style=\"text-align: right;\"> 17201.4</td><td style=\"text-align: right;\">2.95887e+08</td><td style=\"text-align: right;\">  3555.59</td><td style=\"text-align: right;\">nan       </td></tr>\n",
       "<tr><td>GBM_2_AutoML_20201002_201753                       </td><td style=\"text-align: right;\">             3.13619e+08</td><td style=\"text-align: right;\"> 17709.3</td><td style=\"text-align: right;\">3.13619e+08</td><td style=\"text-align: right;\">  4572.86</td><td style=\"text-align: right;\">nan       </td></tr>\n",
       "<tr><td>GBM_2_AutoML_20201002_222343                       </td><td style=\"text-align: right;\">             3.13619e+08</td><td style=\"text-align: right;\"> 17709.3</td><td style=\"text-align: right;\">3.13619e+08</td><td style=\"text-align: right;\">  4572.86</td><td style=\"text-align: right;\">nan       </td></tr>\n",
       "<tr><td>GBM_grid__1_AutoML_20201002_222343_model_3         </td><td style=\"text-align: right;\">             3.16718e+08</td><td style=\"text-align: right;\"> 17796.6</td><td style=\"text-align: right;\">3.16718e+08</td><td style=\"text-align: right;\">  5970.47</td><td style=\"text-align: right;\">nan       </td></tr>\n",
       "<tr><td>GBM_grid__1_AutoML_20201002_201753_model_3         </td><td style=\"text-align: right;\">             3.16718e+08</td><td style=\"text-align: right;\"> 17796.6</td><td style=\"text-align: right;\">3.16718e+08</td><td style=\"text-align: right;\">  5970.47</td><td style=\"text-align: right;\">nan       </td></tr>\n",
       "<tr><td>GBM_grid__1_AutoML_20201002_201753_model_1         </td><td style=\"text-align: right;\">             3.92238e+08</td><td style=\"text-align: right;\"> 19805  </td><td style=\"text-align: right;\">3.92238e+08</td><td style=\"text-align: right;\">  6700.23</td><td style=\"text-align: right;\">nan       </td></tr>\n",
       "<tr><td>GBM_grid__1_AutoML_20201002_222343_model_1         </td><td style=\"text-align: right;\">             3.92238e+08</td><td style=\"text-align: right;\"> 19805  </td><td style=\"text-align: right;\">3.92238e+08</td><td style=\"text-align: right;\">  6700.23</td><td style=\"text-align: right;\">nan       </td></tr>\n",
       "<tr><td>GBM_5_AutoML_20201002_222343                       </td><td style=\"text-align: right;\">             4.25382e+08</td><td style=\"text-align: right;\"> 20624.8</td><td style=\"text-align: right;\">4.25382e+08</td><td style=\"text-align: right;\">  3636.07</td><td style=\"text-align: right;\">nan       </td></tr>\n",
       "<tr><td>GBM_5_AutoML_20201002_201753                       </td><td style=\"text-align: right;\">             4.25382e+08</td><td style=\"text-align: right;\"> 20624.8</td><td style=\"text-align: right;\">4.25382e+08</td><td style=\"text-align: right;\">  3636.07</td><td style=\"text-align: right;\">nan       </td></tr>\n",
       "<tr><td>GBM_grid__1_AutoML_20201002_201753_model_5         </td><td style=\"text-align: right;\">             4.80984e+08</td><td style=\"text-align: right;\"> 21931.3</td><td style=\"text-align: right;\">4.80984e+08</td><td style=\"text-align: right;\">  8032.89</td><td style=\"text-align: right;\">nan       </td></tr>\n",
       "<tr><td>GBM_grid__1_AutoML_20201002_222343_model_5         </td><td style=\"text-align: right;\">             4.80984e+08</td><td style=\"text-align: right;\"> 21931.3</td><td style=\"text-align: right;\">4.80984e+08</td><td style=\"text-align: right;\">  8032.89</td><td style=\"text-align: right;\">nan       </td></tr>\n",
       "<tr><td>DeepLearning_grid__2_AutoML_20201002_222343_model_1</td><td style=\"text-align: right;\">             8.59353e+08</td><td style=\"text-align: right;\"> 29314.7</td><td style=\"text-align: right;\">8.59353e+08</td><td style=\"text-align: right;\">  9021.48</td><td style=\"text-align: right;\">nan       </td></tr>\n",
       "<tr><td>DeepLearning_grid__1_AutoML_20201002_222343_model_2</td><td style=\"text-align: right;\">             1.1463e+09 </td><td style=\"text-align: right;\"> 33857.1</td><td style=\"text-align: right;\">1.1463e+09 </td><td style=\"text-align: right;\"> 14003.7 </td><td style=\"text-align: right;\">nan       </td></tr>\n",
       "<tr><td>DeepLearning_grid__1_AutoML_20201002_201753_model_1</td><td style=\"text-align: right;\">             1.22457e+09</td><td style=\"text-align: right;\"> 34993.9</td><td style=\"text-align: right;\">1.22457e+09</td><td style=\"text-align: right;\"> 10968.6 </td><td style=\"text-align: right;\">nan       </td></tr>\n",
       "<tr><td>DeepLearning_grid__2_AutoML_20201002_222343_model_2</td><td style=\"text-align: right;\">             1.59233e+09</td><td style=\"text-align: right;\"> 39904.1</td><td style=\"text-align: right;\">1.59233e+09</td><td style=\"text-align: right;\"> 15953.8 </td><td style=\"text-align: right;\">nan       </td></tr>\n",
       "<tr><td>DeepLearning_grid__1_AutoML_20201002_222343_model_1</td><td style=\"text-align: right;\">             2.13781e+09</td><td style=\"text-align: right;\"> 46236.4</td><td style=\"text-align: right;\">2.13781e+09</td><td style=\"text-align: right;\"> 16294   </td><td style=\"text-align: right;\">nan       </td></tr>\n",
       "<tr><td>DeepLearning_grid__3_AutoML_20201002_222343_model_1</td><td style=\"text-align: right;\">             3.30027e+09</td><td style=\"text-align: right;\"> 57448  </td><td style=\"text-align: right;\">3.30027e+09</td><td style=\"text-align: right;\"> 29738.1 </td><td style=\"text-align: right;\">nan       </td></tr>\n",
       "<tr><td>GLM_1_AutoML_20201002_201753                       </td><td style=\"text-align: right;\">             7.70618e+09</td><td style=\"text-align: right;\"> 87784.8</td><td style=\"text-align: right;\">7.70618e+09</td><td style=\"text-align: right;\"> 30176.4 </td><td style=\"text-align: right;\">  2.30903 </td></tr>\n",
       "<tr><td>GLM_1_AutoML_20201002_222343                       </td><td style=\"text-align: right;\">             7.70618e+09</td><td style=\"text-align: right;\"> 87784.8</td><td style=\"text-align: right;\">7.70618e+09</td><td style=\"text-align: right;\"> 30176.4 </td><td style=\"text-align: right;\">  2.30903 </td></tr>\n",
       "<tr><td>DeepLearning_1_AutoML_20201002_201753              </td><td style=\"text-align: right;\">             3.13523e+10</td><td style=\"text-align: right;\">177066  </td><td style=\"text-align: right;\">3.13523e+10</td><td style=\"text-align: right;\">166619   </td><td style=\"text-align: right;\">nan       </td></tr>\n",
       "<tr><td>DeepLearning_1_AutoML_20201002_222343              </td><td style=\"text-align: right;\">             3.60121e+10</td><td style=\"text-align: right;\">189768  </td><td style=\"text-align: right;\">3.60121e+10</td><td style=\"text-align: right;\">180123   </td><td style=\"text-align: right;\">nan       </td></tr>\n",
       "</tbody>\n",
       "</table>"
      ]
     },
     "metadata": {},
     "output_type": "display_data"
    },
    {
     "data": {
      "text/plain": []
     },
     "execution_count": 140,
     "metadata": {},
     "output_type": "execute_result"
    }
   ],
   "source": [
    "lb = AutoML.leaderboard\n",
    "lb.head(rows=lb.nrows)"
   ]
  },
  {
   "cell_type": "code",
   "execution_count": 145,
   "metadata": {},
   "outputs": [
    {
     "data": {
      "text/html": [
       "<table>\n",
       "<thead>\n",
       "<tr><th style=\"text-align: right;\">  Unnamed: 0</th><th style=\"text-align: right;\">  Unnamed: 0.1</th><th style=\"text-align: right;\">  Unnamed: 0.1.1</th><th>B      </th><th style=\"text-align: right;\">   H</th><th style=\"text-align: right;\">   I</th><th style=\"text-align: right;\">   J</th><th style=\"text-align: right;\">   K</th><th style=\"text-align: right;\">   L</th><th style=\"text-align: right;\">     M</th><th style=\"text-align: right;\">    N</th><th style=\"text-align: right;\">   O</th><th style=\"text-align: right;\">   P</th><th style=\"text-align: right;\">    Q</th><th style=\"text-align: right;\">    R</th><th style=\"text-align: right;\">  T</th><th style=\"text-align: right;\">   U</th><th style=\"text-align: right;\">   V</th><th style=\"text-align: right;\">    W</th><th style=\"text-align: right;\">  X</th><th style=\"text-align: right;\">   Y</th><th style=\"text-align: right;\">  Z</th><th style=\"text-align: right;\">   AA</th><th style=\"text-align: right;\">   AB</th><th style=\"text-align: right;\">   AC</th><th style=\"text-align: right;\">   AD</th><th style=\"text-align: right;\">   AE</th><th style=\"text-align: right;\">   AF</th><th style=\"text-align: right;\">  AG</th><th style=\"text-align: right;\">  AH</th><th style=\"text-align: right;\">  2017_01</th><th style=\"text-align: right;\">  2017_02</th><th style=\"text-align: right;\">  2017_03</th><th style=\"text-align: right;\">  2017_04</th><th style=\"text-align: right;\">  2017_05</th><th style=\"text-align: right;\">  2017_06</th><th style=\"text-align: right;\">  2017_07</th><th style=\"text-align: right;\">  2017_08</th><th style=\"text-align: right;\">  2017_09</th><th style=\"text-align: right;\">  2017_10</th><th style=\"text-align: right;\">  2017_11</th><th style=\"text-align: right;\">  2017_12</th><th style=\"text-align: right;\">  2018_01</th><th style=\"text-align: right;\">  2018_02</th><th style=\"text-align: right;\">  2018_03</th><th style=\"text-align: right;\">  2018_04</th><th style=\"text-align: right;\">  2018_05</th><th style=\"text-align: right;\">  2018_06</th><th style=\"text-align: right;\">  2018_07</th><th style=\"text-align: right;\">  2018_08</th><th style=\"text-align: right;\">  2018_09</th><th style=\"text-align: right;\">  2018_10</th><th style=\"text-align: right;\">  2018_11</th><th style=\"text-align: right;\">  2018_12</th><th style=\"text-align: right;\">  2019_01</th><th style=\"text-align: right;\">  2019_02</th><th style=\"text-align: right;\">  2019_03</th><th style=\"text-align: right;\">  2019_04</th><th style=\"text-align: right;\">  2019_05</th><th style=\"text-align: right;\">  2019_06</th><th style=\"text-align: right;\">  2019_07</th><th style=\"text-align: right;\">  2019_08</th><th style=\"text-align: right;\">  2019_09</th><th style=\"text-align: right;\">  2019_10</th><th style=\"text-align: right;\">  2019_11</th><th style=\"text-align: right;\">  2019_12</th><th style=\"text-align: right;\">        ER</th><th style=\"text-align: right;\">  freq_encode_C</th><th style=\"text-align: right;\">  freq_encode_D</th><th style=\"text-align: right;\">  freq_encode_E</th><th style=\"text-align: right;\">  freq_encode_F</th></tr>\n",
       "</thead>\n",
       "<tbody>\n",
       "<tr><td style=\"text-align: right;\">       35022</td><td style=\"text-align: right;\">         60133</td><td style=\"text-align: right;\">            1453</td><td>A123040</td><td style=\"text-align: right;\">1462</td><td style=\"text-align: right;\"> 6.6</td><td style=\"text-align: right;\">16.4</td><td style=\"text-align: right;\">17.5</td><td style=\"text-align: right;\"> 2  </td><td style=\"text-align: right;\">  1.46</td><td style=\"text-align: right;\">12.12</td><td style=\"text-align: right;\">0.55</td><td style=\"text-align: right;\">1.71</td><td style=\"text-align: right;\">10.01</td><td style=\"text-align: right;\">10.01</td><td style=\"text-align: right;\">1.1</td><td style=\"text-align: right;\">6626</td><td style=\"text-align: right;\"> 832</td><td style=\"text-align: right;\">10512</td><td style=\"text-align: right;\">436</td><td style=\"text-align: right;\"> 146</td><td style=\"text-align: right;\"> 91</td><td style=\"text-align: right;\"> 0.57</td><td style=\"text-align: right;\"> 0.02</td><td style=\"text-align: right;\"> 0.58</td><td style=\"text-align: right;\"> 1.98</td><td style=\"text-align: right;\">-0.2 </td><td style=\"text-align: right;\"> 1.78</td><td style=\"text-align: right;\">  15</td><td style=\"text-align: right;\"> 320</td><td style=\"text-align: right;\">        0</td><td style=\"text-align: right;\">        0</td><td style=\"text-align: right;\">        0</td><td style=\"text-align: right;\">        0</td><td style=\"text-align: right;\">        0</td><td style=\"text-align: right;\">        0</td><td style=\"text-align: right;\">        0</td><td style=\"text-align: right;\">        0</td><td style=\"text-align: right;\">        0</td><td style=\"text-align: right;\">        0</td><td style=\"text-align: right;\">        0</td><td style=\"text-align: right;\">        0</td><td style=\"text-align: right;\">        0</td><td style=\"text-align: right;\">        0</td><td style=\"text-align: right;\">        0</td><td style=\"text-align: right;\">        0</td><td style=\"text-align: right;\">        0</td><td style=\"text-align: right;\">        0</td><td style=\"text-align: right;\">        0</td><td style=\"text-align: right;\">        0</td><td style=\"text-align: right;\">        0</td><td style=\"text-align: right;\">        0</td><td style=\"text-align: right;\">        0</td><td style=\"text-align: right;\">        0</td><td style=\"text-align: right;\">        0</td><td style=\"text-align: right;\">        0</td><td style=\"text-align: right;\">        0</td><td style=\"text-align: right;\">        0</td><td style=\"text-align: right;\">        0</td><td style=\"text-align: right;\">        0</td><td style=\"text-align: right;\">        1</td><td style=\"text-align: right;\">        0</td><td style=\"text-align: right;\">        0</td><td style=\"text-align: right;\">        0</td><td style=\"text-align: right;\">        0</td><td style=\"text-align: right;\">        0</td><td style=\"text-align: right;\"> 20.8763  </td><td style=\"text-align: right;\">    0.000511247</td><td style=\"text-align: right;\">      0.0730516</td><td style=\"text-align: right;\">     0.00562372</td><td style=\"text-align: right;\">       0.602022</td></tr>\n",
       "<tr><td style=\"text-align: right;\">       35023</td><td style=\"text-align: right;\">         62089</td><td style=\"text-align: right;\">            1453</td><td>A123040</td><td style=\"text-align: right;\">1747</td><td style=\"text-align: right;\"> 3.9</td><td style=\"text-align: right;\">38.9</td><td style=\"text-align: right;\">17.5</td><td style=\"text-align: right;\"> 2  </td><td style=\"text-align: right;\">  1.75</td><td style=\"text-align: right;\">12.12</td><td style=\"text-align: right;\">0.55</td><td style=\"text-align: right;\">1.71</td><td style=\"text-align: right;\">11.97</td><td style=\"text-align: right;\">11.97</td><td style=\"text-align: right;\">0.9</td><td style=\"text-align: right;\">6626</td><td style=\"text-align: right;\"> 832</td><td style=\"text-align: right;\">10512</td><td style=\"text-align: right;\">436</td><td style=\"text-align: right;\"> 146</td><td style=\"text-align: right;\">100</td><td style=\"text-align: right;\"> 0.98</td><td style=\"text-align: right;\">-0.09</td><td style=\"text-align: right;\"> 0.88</td><td style=\"text-align: right;\"> 3.43</td><td style=\"text-align: right;\">-0.5 </td><td style=\"text-align: right;\"> 2.92</td><td style=\"text-align: right;\">  17</td><td style=\"text-align: right;\"> 382</td><td style=\"text-align: right;\">        0</td><td style=\"text-align: right;\">        0</td><td style=\"text-align: right;\">        0</td><td style=\"text-align: right;\">        0</td><td style=\"text-align: right;\">        0</td><td style=\"text-align: right;\">        0</td><td style=\"text-align: right;\">        0</td><td style=\"text-align: right;\">        0</td><td style=\"text-align: right;\">        0</td><td style=\"text-align: right;\">        0</td><td style=\"text-align: right;\">        0</td><td style=\"text-align: right;\">        0</td><td style=\"text-align: right;\">        0</td><td style=\"text-align: right;\">        0</td><td style=\"text-align: right;\">        0</td><td style=\"text-align: right;\">        0</td><td style=\"text-align: right;\">        0</td><td style=\"text-align: right;\">        0</td><td style=\"text-align: right;\">        0</td><td style=\"text-align: right;\">        0</td><td style=\"text-align: right;\">        0</td><td style=\"text-align: right;\">        0</td><td style=\"text-align: right;\">        0</td><td style=\"text-align: right;\">        0</td><td style=\"text-align: right;\">        0</td><td style=\"text-align: right;\">        0</td><td style=\"text-align: right;\">        0</td><td style=\"text-align: right;\">        0</td><td style=\"text-align: right;\">        0</td><td style=\"text-align: right;\">        0</td><td style=\"text-align: right;\">        0</td><td style=\"text-align: right;\">        1</td><td style=\"text-align: right;\">        0</td><td style=\"text-align: right;\">        0</td><td style=\"text-align: right;\">        0</td><td style=\"text-align: right;\">        0</td><td style=\"text-align: right;\"> 18.7633  </td><td style=\"text-align: right;\">    0.000511247</td><td style=\"text-align: right;\">      0.0730516</td><td style=\"text-align: right;\">     0.00562372</td><td style=\"text-align: right;\">       0.602022</td></tr>\n",
       "<tr><td style=\"text-align: right;\">       35024</td><td style=\"text-align: right;\">         64045</td><td style=\"text-align: right;\">            1453</td><td>A123040</td><td style=\"text-align: right;\">1712</td><td style=\"text-align: right;\">-0.9</td><td style=\"text-align: right;\"> 0.6</td><td style=\"text-align: right;\">23.2</td><td style=\"text-align: right;\"> 2.7</td><td style=\"text-align: right;\">  1.62</td><td style=\"text-align: right;\">12.12</td><td style=\"text-align: right;\">0.55</td><td style=\"text-align: right;\">1.64</td><td style=\"text-align: right;\"> 7.13</td><td style=\"text-align: right;\"> 7.13</td><td style=\"text-align: right;\">0.9</td><td style=\"text-align: right;\">7846</td><td style=\"text-align: right;\">1034</td><td style=\"text-align: right;\">11934</td><td style=\"text-align: right;\">581</td><td style=\"text-align: right;\"> 240</td><td style=\"text-align: right;\"> 84</td><td style=\"text-align: right;\">-0.68</td><td style=\"text-align: right;\"> 0   </td><td style=\"text-align: right;\">-0.67</td><td style=\"text-align: right;\">-1.61</td><td style=\"text-align: right;\">-0.13</td><td style=\"text-align: right;\">-1.74</td><td style=\"text-align: right;\">  14</td><td style=\"text-align: right;\"> 302</td><td style=\"text-align: right;\">        0</td><td style=\"text-align: right;\">        0</td><td style=\"text-align: right;\">        0</td><td style=\"text-align: right;\">        0</td><td style=\"text-align: right;\">        0</td><td style=\"text-align: right;\">        0</td><td style=\"text-align: right;\">        0</td><td style=\"text-align: right;\">        0</td><td style=\"text-align: right;\">        0</td><td style=\"text-align: right;\">        0</td><td style=\"text-align: right;\">        0</td><td style=\"text-align: right;\">        0</td><td style=\"text-align: right;\">        0</td><td style=\"text-align: right;\">        0</td><td style=\"text-align: right;\">        0</td><td style=\"text-align: right;\">        0</td><td style=\"text-align: right;\">        0</td><td style=\"text-align: right;\">        0</td><td style=\"text-align: right;\">        0</td><td style=\"text-align: right;\">        0</td><td style=\"text-align: right;\">        0</td><td style=\"text-align: right;\">        0</td><td style=\"text-align: right;\">        0</td><td style=\"text-align: right;\">        0</td><td style=\"text-align: right;\">        0</td><td style=\"text-align: right;\">        0</td><td style=\"text-align: right;\">        0</td><td style=\"text-align: right;\">        0</td><td style=\"text-align: right;\">        0</td><td style=\"text-align: right;\">        0</td><td style=\"text-align: right;\">        0</td><td style=\"text-align: right;\">        0</td><td style=\"text-align: right;\">        1</td><td style=\"text-align: right;\">        0</td><td style=\"text-align: right;\">        0</td><td style=\"text-align: right;\">        0</td><td style=\"text-align: right;\"> -4.48833 </td><td style=\"text-align: right;\">    0.000511247</td><td style=\"text-align: right;\">      0.0730516</td><td style=\"text-align: right;\">     0.00562372</td><td style=\"text-align: right;\">       0.602022</td></tr>\n",
       "<tr><td style=\"text-align: right;\">       35025</td><td style=\"text-align: right;\">         66001</td><td style=\"text-align: right;\">            1453</td><td>A123040</td><td style=\"text-align: right;\">1815</td><td style=\"text-align: right;\">-3.5</td><td style=\"text-align: right;\">-4  </td><td style=\"text-align: right;\">23.2</td><td style=\"text-align: right;\"> 2.7</td><td style=\"text-align: right;\">  1.72</td><td style=\"text-align: right;\">12.12</td><td style=\"text-align: right;\">0.55</td><td style=\"text-align: right;\">1.64</td><td style=\"text-align: right;\"> 7.56</td><td style=\"text-align: right;\"> 7.56</td><td style=\"text-align: right;\">0.9</td><td style=\"text-align: right;\">7846</td><td style=\"text-align: right;\">1034</td><td style=\"text-align: right;\">11934</td><td style=\"text-align: right;\">581</td><td style=\"text-align: right;\"> 240</td><td style=\"text-align: right;\"> 87</td><td style=\"text-align: right;\">-0.84</td><td style=\"text-align: right;\">-0.21</td><td style=\"text-align: right;\">-1.05</td><td style=\"text-align: right;\">-0.01</td><td style=\"text-align: right;\"> 0.33</td><td style=\"text-align: right;\"> 0.32</td><td style=\"text-align: right;\">  15</td><td style=\"text-align: right;\"> 320</td><td style=\"text-align: right;\">        0</td><td style=\"text-align: right;\">        0</td><td style=\"text-align: right;\">        0</td><td style=\"text-align: right;\">        0</td><td style=\"text-align: right;\">        0</td><td style=\"text-align: right;\">        0</td><td style=\"text-align: right;\">        0</td><td style=\"text-align: right;\">        0</td><td style=\"text-align: right;\">        0</td><td style=\"text-align: right;\">        0</td><td style=\"text-align: right;\">        0</td><td style=\"text-align: right;\">        0</td><td style=\"text-align: right;\">        0</td><td style=\"text-align: right;\">        0</td><td style=\"text-align: right;\">        0</td><td style=\"text-align: right;\">        0</td><td style=\"text-align: right;\">        0</td><td style=\"text-align: right;\">        0</td><td style=\"text-align: right;\">        0</td><td style=\"text-align: right;\">        0</td><td style=\"text-align: right;\">        0</td><td style=\"text-align: right;\">        0</td><td style=\"text-align: right;\">        0</td><td style=\"text-align: right;\">        0</td><td style=\"text-align: right;\">        0</td><td style=\"text-align: right;\">        0</td><td style=\"text-align: right;\">        0</td><td style=\"text-align: right;\">        0</td><td style=\"text-align: right;\">        0</td><td style=\"text-align: right;\">        0</td><td style=\"text-align: right;\">        0</td><td style=\"text-align: right;\">        0</td><td style=\"text-align: right;\">        0</td><td style=\"text-align: right;\">        1</td><td style=\"text-align: right;\">        0</td><td style=\"text-align: right;\">        0</td><td style=\"text-align: right;\">  3.19549 </td><td style=\"text-align: right;\">    0.000511247</td><td style=\"text-align: right;\">      0.0730516</td><td style=\"text-align: right;\">     0.00562372</td><td style=\"text-align: right;\">       0.602022</td></tr>\n",
       "<tr><td style=\"text-align: right;\">       35026</td><td style=\"text-align: right;\">         67957</td><td style=\"text-align: right;\">            1453</td><td>A123040</td><td style=\"text-align: right;\">2024</td><td style=\"text-align: right;\"> 0.2</td><td style=\"text-align: right;\"> 5.1</td><td style=\"text-align: right;\">37.1</td><td style=\"text-align: right;\"> 4.3</td><td style=\"text-align: right;\">  1.92</td><td style=\"text-align: right;\">12.12</td><td style=\"text-align: right;\">0.55</td><td style=\"text-align: right;\">1.64</td><td style=\"text-align: right;\"> 8.43</td><td style=\"text-align: right;\"> 5.27</td><td style=\"text-align: right;\">0.8</td><td style=\"text-align: right;\">7846</td><td style=\"text-align: right;\">1034</td><td style=\"text-align: right;\">13051</td><td style=\"text-align: right;\">691</td><td style=\"text-align: right;\"> 384</td><td style=\"text-align: right;\"> 93</td><td style=\"text-align: right;\">-0.04</td><td style=\"text-align: right;\">-0.14</td><td style=\"text-align: right;\">-0.18</td><td style=\"text-align: right;\"> 0   </td><td style=\"text-align: right;\"> 0.61</td><td style=\"text-align: right;\"> 0.62</td><td style=\"text-align: right;\">  15</td><td style=\"text-align: right;\"> 325</td><td style=\"text-align: right;\">        0</td><td style=\"text-align: right;\">        0</td><td style=\"text-align: right;\">        0</td><td style=\"text-align: right;\">        0</td><td style=\"text-align: right;\">        0</td><td style=\"text-align: right;\">        0</td><td style=\"text-align: right;\">        0</td><td style=\"text-align: right;\">        0</td><td style=\"text-align: right;\">        0</td><td style=\"text-align: right;\">        0</td><td style=\"text-align: right;\">        0</td><td style=\"text-align: right;\">        0</td><td style=\"text-align: right;\">        0</td><td style=\"text-align: right;\">        0</td><td style=\"text-align: right;\">        0</td><td style=\"text-align: right;\">        0</td><td style=\"text-align: right;\">        0</td><td style=\"text-align: right;\">        0</td><td style=\"text-align: right;\">        0</td><td style=\"text-align: right;\">        0</td><td style=\"text-align: right;\">        0</td><td style=\"text-align: right;\">        0</td><td style=\"text-align: right;\">        0</td><td style=\"text-align: right;\">        0</td><td style=\"text-align: right;\">        0</td><td style=\"text-align: right;\">        0</td><td style=\"text-align: right;\">        0</td><td style=\"text-align: right;\">        0</td><td style=\"text-align: right;\">        0</td><td style=\"text-align: right;\">        0</td><td style=\"text-align: right;\">        0</td><td style=\"text-align: right;\">        0</td><td style=\"text-align: right;\">        0</td><td style=\"text-align: right;\">        0</td><td style=\"text-align: right;\">        1</td><td style=\"text-align: right;\">        0</td><td style=\"text-align: right;\">  9.28962 </td><td style=\"text-align: right;\">    0.000511247</td><td style=\"text-align: right;\">      0.0730516</td><td style=\"text-align: right;\">     0.00562372</td><td style=\"text-align: right;\">       0.602022</td></tr>\n",
       "<tr><td style=\"text-align: right;\">       35027</td><td style=\"text-align: right;\">         69913</td><td style=\"text-align: right;\">            1453</td><td>A123040</td><td style=\"text-align: right;\">1915</td><td style=\"text-align: right;\">-0.2</td><td style=\"text-align: right;\">10.1</td><td style=\"text-align: right;\">33  </td><td style=\"text-align: right;\"> 4.3</td><td style=\"text-align: right;\">  1.29</td><td style=\"text-align: right;\">12.12</td><td style=\"text-align: right;\">0.55</td><td style=\"text-align: right;\">1.47</td><td style=\"text-align: right;\"> 4.99</td><td style=\"text-align: right;\"> 4.99</td><td style=\"text-align: right;\">0.9</td><td style=\"text-align: right;\">7820</td><td style=\"text-align: right;\">1162</td><td style=\"text-align: right;\">13051</td><td style=\"text-align: right;\">691</td><td style=\"text-align: right;\"> 384</td><td style=\"text-align: right;\"> 88</td><td style=\"text-align: right;\"> 0.06</td><td style=\"text-align: right;\"> 0.09</td><td style=\"text-align: right;\"> 0.15</td><td style=\"text-align: right;\"> 0.22</td><td style=\"text-align: right;\"> 0.4 </td><td style=\"text-align: right;\"> 0.62</td><td style=\"text-align: right;\">  14</td><td style=\"text-align: right;\"> 300</td><td style=\"text-align: right;\">        0</td><td style=\"text-align: right;\">        0</td><td style=\"text-align: right;\">        0</td><td style=\"text-align: right;\">        0</td><td style=\"text-align: right;\">        0</td><td style=\"text-align: right;\">        0</td><td style=\"text-align: right;\">        0</td><td style=\"text-align: right;\">        0</td><td style=\"text-align: right;\">        0</td><td style=\"text-align: right;\">        0</td><td style=\"text-align: right;\">        0</td><td style=\"text-align: right;\">        0</td><td style=\"text-align: right;\">        0</td><td style=\"text-align: right;\">        0</td><td style=\"text-align: right;\">        0</td><td style=\"text-align: right;\">        0</td><td style=\"text-align: right;\">        0</td><td style=\"text-align: right;\">        0</td><td style=\"text-align: right;\">        0</td><td style=\"text-align: right;\">        0</td><td style=\"text-align: right;\">        0</td><td style=\"text-align: right;\">        0</td><td style=\"text-align: right;\">        0</td><td style=\"text-align: right;\">        0</td><td style=\"text-align: right;\">        0</td><td style=\"text-align: right;\">        0</td><td style=\"text-align: right;\">        0</td><td style=\"text-align: right;\">        0</td><td style=\"text-align: right;\">        0</td><td style=\"text-align: right;\">        0</td><td style=\"text-align: right;\">        0</td><td style=\"text-align: right;\">        0</td><td style=\"text-align: right;\">        0</td><td style=\"text-align: right;\">        0</td><td style=\"text-align: right;\">        0</td><td style=\"text-align: right;\">        1</td><td style=\"text-align: right;\"> -5.5     </td><td style=\"text-align: right;\">    0.000511247</td><td style=\"text-align: right;\">      0.0730516</td><td style=\"text-align: right;\">     0.00562372</td><td style=\"text-align: right;\">       0.602022</td></tr>\n",
       "<tr><td style=\"text-align: right;\">       44778</td><td style=\"text-align: right;\">         59690</td><td style=\"text-align: right;\">            1010</td><td>A129260</td><td style=\"text-align: right;\"> 769</td><td style=\"text-align: right;\">-0.6</td><td style=\"text-align: right;\"> 3  </td><td style=\"text-align: right;\">-9.3</td><td style=\"text-align: right;\">-4  </td><td style=\"text-align: right;\">-21.45</td><td style=\"text-align: right;\"> 0.8 </td><td style=\"text-align: right;\">0.34</td><td style=\"text-align: right;\">0.52</td><td style=\"text-align: right;\">-4.16</td><td style=\"text-align: right;\">-4.16</td><td style=\"text-align: right;\">0  </td><td style=\"text-align: right;\">2696</td><td style=\"text-align: right;\">1983</td><td style=\"text-align: right;\"> 4952</td><td style=\"text-align: right;\">115</td><td style=\"text-align: right;\">-185</td><td style=\"text-align: right;\"> 86</td><td style=\"text-align: right;\"> 0   </td><td style=\"text-align: right;\"> 0   </td><td style=\"text-align: right;\"> 0   </td><td style=\"text-align: right;\"> 0.01</td><td style=\"text-align: right;\">-0.01</td><td style=\"text-align: right;\"> 0   </td><td style=\"text-align: right;\">  49</td><td style=\"text-align: right;\"> 115</td><td style=\"text-align: right;\">        0</td><td style=\"text-align: right;\">        0</td><td style=\"text-align: right;\">        0</td><td style=\"text-align: right;\">        0</td><td style=\"text-align: right;\">        0</td><td style=\"text-align: right;\">        0</td><td style=\"text-align: right;\">        0</td><td style=\"text-align: right;\">        0</td><td style=\"text-align: right;\">        0</td><td style=\"text-align: right;\">        0</td><td style=\"text-align: right;\">        0</td><td style=\"text-align: right;\">        0</td><td style=\"text-align: right;\">        0</td><td style=\"text-align: right;\">        0</td><td style=\"text-align: right;\">        0</td><td style=\"text-align: right;\">        0</td><td style=\"text-align: right;\">        0</td><td style=\"text-align: right;\">        0</td><td style=\"text-align: right;\">        0</td><td style=\"text-align: right;\">        0</td><td style=\"text-align: right;\">        0</td><td style=\"text-align: right;\">        0</td><td style=\"text-align: right;\">        0</td><td style=\"text-align: right;\">        0</td><td style=\"text-align: right;\">        0</td><td style=\"text-align: right;\">        0</td><td style=\"text-align: right;\">        0</td><td style=\"text-align: right;\">        0</td><td style=\"text-align: right;\">        0</td><td style=\"text-align: right;\">        0</td><td style=\"text-align: right;\">        1</td><td style=\"text-align: right;\">        0</td><td style=\"text-align: right;\">        0</td><td style=\"text-align: right;\">        0</td><td style=\"text-align: right;\">        0</td><td style=\"text-align: right;\">        0</td><td style=\"text-align: right;\"> -0.576923</td><td style=\"text-align: right;\">    0.000511247</td><td style=\"text-align: right;\">      0.0177658</td><td style=\"text-align: right;\">     0.00613497</td><td style=\"text-align: right;\">       0.37669 </td></tr>\n",
       "<tr><td style=\"text-align: right;\">       44779</td><td style=\"text-align: right;\">         61646</td><td style=\"text-align: right;\">            1010</td><td>A129260</td><td style=\"text-align: right;\"> 619</td><td style=\"text-align: right;\"> 1.7</td><td style=\"text-align: right;\"> 5.1</td><td style=\"text-align: right;\">-9.3</td><td style=\"text-align: right;\">-4  </td><td style=\"text-align: right;\">-17.27</td><td style=\"text-align: right;\"> 0.8 </td><td style=\"text-align: right;\">0.31</td><td style=\"text-align: right;\">0.52</td><td style=\"text-align: right;\">-3.35</td><td style=\"text-align: right;\">-3.35</td><td style=\"text-align: right;\">0  </td><td style=\"text-align: right;\">2696</td><td style=\"text-align: right;\">1983</td><td style=\"text-align: right;\"> 4952</td><td style=\"text-align: right;\">115</td><td style=\"text-align: right;\">-185</td><td style=\"text-align: right;\"> 71</td><td style=\"text-align: right;\"> 0   </td><td style=\"text-align: right;\">-0.01</td><td style=\"text-align: right;\">-0.01</td><td style=\"text-align: right;\">-0.01</td><td style=\"text-align: right;\"> 0.03</td><td style=\"text-align: right;\"> 0.02</td><td style=\"text-align: right;\">  39</td><td style=\"text-align: right;\"> 100</td><td style=\"text-align: right;\">        0</td><td style=\"text-align: right;\">        0</td><td style=\"text-align: right;\">        0</td><td style=\"text-align: right;\">        0</td><td style=\"text-align: right;\">        0</td><td style=\"text-align: right;\">        0</td><td style=\"text-align: right;\">        0</td><td style=\"text-align: right;\">        0</td><td style=\"text-align: right;\">        0</td><td style=\"text-align: right;\">        0</td><td style=\"text-align: right;\">        0</td><td style=\"text-align: right;\">        0</td><td style=\"text-align: right;\">        0</td><td style=\"text-align: right;\">        0</td><td style=\"text-align: right;\">        0</td><td style=\"text-align: right;\">        0</td><td style=\"text-align: right;\">        0</td><td style=\"text-align: right;\">        0</td><td style=\"text-align: right;\">        0</td><td style=\"text-align: right;\">        0</td><td style=\"text-align: right;\">        0</td><td style=\"text-align: right;\">        0</td><td style=\"text-align: right;\">        0</td><td style=\"text-align: right;\">        0</td><td style=\"text-align: right;\">        0</td><td style=\"text-align: right;\">        0</td><td style=\"text-align: right;\">        0</td><td style=\"text-align: right;\">        0</td><td style=\"text-align: right;\">        0</td><td style=\"text-align: right;\">        0</td><td style=\"text-align: right;\">        0</td><td style=\"text-align: right;\">        1</td><td style=\"text-align: right;\">        0</td><td style=\"text-align: right;\">        0</td><td style=\"text-align: right;\">        0</td><td style=\"text-align: right;\">        0</td><td style=\"text-align: right;\">-19.5358  </td><td style=\"text-align: right;\">    0.000511247</td><td style=\"text-align: right;\">      0.0177658</td><td style=\"text-align: right;\">     0.00613497</td><td style=\"text-align: right;\">       0.37669 </td></tr>\n",
       "<tr><td style=\"text-align: right;\">       44780</td><td style=\"text-align: right;\">         63602</td><td style=\"text-align: right;\">            1010</td><td>A129260</td><td style=\"text-align: right;\"> 657</td><td style=\"text-align: right;\"> 1.4</td><td style=\"text-align: right;\"> 4.7</td><td style=\"text-align: right;\">-8.7</td><td style=\"text-align: right;\">-3.8</td><td style=\"text-align: right;\">-20.42</td><td style=\"text-align: right;\"> 0.8 </td><td style=\"text-align: right;\">0.33</td><td style=\"text-align: right;\">0.5 </td><td style=\"text-align: right;\">-3.78</td><td style=\"text-align: right;\">-3.78</td><td style=\"text-align: right;\">0  </td><td style=\"text-align: right;\">2643</td><td style=\"text-align: right;\">1996</td><td style=\"text-align: right;\"> 4898</td><td style=\"text-align: right;\">139</td><td style=\"text-align: right;\">-174</td><td style=\"text-align: right;\"> 75</td><td style=\"text-align: right;\"> 0   </td><td style=\"text-align: right;\">-0.03</td><td style=\"text-align: right;\">-0.02</td><td style=\"text-align: right;\"> 0.01</td><td style=\"text-align: right;\"> 0   </td><td style=\"text-align: right;\"> 0   </td><td style=\"text-align: right;\">  41</td><td style=\"text-align: right;\"> 100</td><td style=\"text-align: right;\">        0</td><td style=\"text-align: right;\">        0</td><td style=\"text-align: right;\">        0</td><td style=\"text-align: right;\">        0</td><td style=\"text-align: right;\">        0</td><td style=\"text-align: right;\">        0</td><td style=\"text-align: right;\">        0</td><td style=\"text-align: right;\">        0</td><td style=\"text-align: right;\">        0</td><td style=\"text-align: right;\">        0</td><td style=\"text-align: right;\">        0</td><td style=\"text-align: right;\">        0</td><td style=\"text-align: right;\">        0</td><td style=\"text-align: right;\">        0</td><td style=\"text-align: right;\">        0</td><td style=\"text-align: right;\">        0</td><td style=\"text-align: right;\">        0</td><td style=\"text-align: right;\">        0</td><td style=\"text-align: right;\">        0</td><td style=\"text-align: right;\">        0</td><td style=\"text-align: right;\">        0</td><td style=\"text-align: right;\">        0</td><td style=\"text-align: right;\">        0</td><td style=\"text-align: right;\">        0</td><td style=\"text-align: right;\">        0</td><td style=\"text-align: right;\">        0</td><td style=\"text-align: right;\">        0</td><td style=\"text-align: right;\">        0</td><td style=\"text-align: right;\">        0</td><td style=\"text-align: right;\">        0</td><td style=\"text-align: right;\">        0</td><td style=\"text-align: right;\">        0</td><td style=\"text-align: right;\">        1</td><td style=\"text-align: right;\">        0</td><td style=\"text-align: right;\">        0</td><td style=\"text-align: right;\">        0</td><td style=\"text-align: right;\">  6.25    </td><td style=\"text-align: right;\">    0.000511247</td><td style=\"text-align: right;\">      0.0177658</td><td style=\"text-align: right;\">     0.00613497</td><td style=\"text-align: right;\">       0.37669 </td></tr>\n",
       "<tr><td style=\"text-align: right;\">       44781</td><td style=\"text-align: right;\">         65558</td><td style=\"text-align: right;\">            1010</td><td>A129260</td><td style=\"text-align: right;\"> 623</td><td style=\"text-align: right;\"> 0  </td><td style=\"text-align: right;\">-0.9</td><td style=\"text-align: right;\">-8.7</td><td style=\"text-align: right;\">-3.8</td><td style=\"text-align: right;\">-19.36</td><td style=\"text-align: right;\"> 0.8 </td><td style=\"text-align: right;\">0.31</td><td style=\"text-align: right;\">0.5 </td><td style=\"text-align: right;\">-3.58</td><td style=\"text-align: right;\">-3.58</td><td style=\"text-align: right;\">0  </td><td style=\"text-align: right;\">2643</td><td style=\"text-align: right;\">1996</td><td style=\"text-align: right;\"> 4898</td><td style=\"text-align: right;\">139</td><td style=\"text-align: right;\">-174</td><td style=\"text-align: right;\"> 73</td><td style=\"text-align: right;\"> 0   </td><td style=\"text-align: right;\">-0.01</td><td style=\"text-align: right;\">-0.01</td><td style=\"text-align: right;\">-0.04</td><td style=\"text-align: right;\">-0.04</td><td style=\"text-align: right;\">-0.08</td><td style=\"text-align: right;\">  39</td><td style=\"text-align: right;\"> 100</td><td style=\"text-align: right;\">        0</td><td style=\"text-align: right;\">        0</td><td style=\"text-align: right;\">        0</td><td style=\"text-align: right;\">        0</td><td style=\"text-align: right;\">        0</td><td style=\"text-align: right;\">        0</td><td style=\"text-align: right;\">        0</td><td style=\"text-align: right;\">        0</td><td style=\"text-align: right;\">        0</td><td style=\"text-align: right;\">        0</td><td style=\"text-align: right;\">        0</td><td style=\"text-align: right;\">        0</td><td style=\"text-align: right;\">        0</td><td style=\"text-align: right;\">        0</td><td style=\"text-align: right;\">        0</td><td style=\"text-align: right;\">        0</td><td style=\"text-align: right;\">        0</td><td style=\"text-align: right;\">        0</td><td style=\"text-align: right;\">        0</td><td style=\"text-align: right;\">        0</td><td style=\"text-align: right;\">        0</td><td style=\"text-align: right;\">        0</td><td style=\"text-align: right;\">        0</td><td style=\"text-align: right;\">        0</td><td style=\"text-align: right;\">        0</td><td style=\"text-align: right;\">        0</td><td style=\"text-align: right;\">        0</td><td style=\"text-align: right;\">        0</td><td style=\"text-align: right;\">        0</td><td style=\"text-align: right;\">        0</td><td style=\"text-align: right;\">        0</td><td style=\"text-align: right;\">        0</td><td style=\"text-align: right;\">        0</td><td style=\"text-align: right;\">        1</td><td style=\"text-align: right;\">        0</td><td style=\"text-align: right;\">        0</td><td style=\"text-align: right;\"> -5.20362 </td><td style=\"text-align: right;\">    0.000511247</td><td style=\"text-align: right;\">      0.0177658</td><td style=\"text-align: right;\">     0.00613497</td><td style=\"text-align: right;\">       0.37669 </td></tr>\n",
       "</tbody>\n",
       "</table>"
      ]
     },
     "metadata": {},
     "output_type": "display_data"
    },
    {
     "data": {
      "text/plain": []
     },
     "execution_count": 145,
     "metadata": {},
     "output_type": "execute_result"
    }
   ],
   "source": [
    "valid[valid_x]"
   ]
  },
  {
   "cell_type": "code",
   "execution_count": 146,
   "metadata": {},
   "outputs": [
    {
     "name": "stdout",
     "output_type": "stream",
     "text": [
      "gbm prediction progress: |████████████████████████████████████████████████| 100%\n"
     ]
    }
   ],
   "source": [
    "predict=AutoML.predict(valid[valid_x])"
   ]
  },
  {
   "cell_type": "code",
   "execution_count": 147,
   "metadata": {},
   "outputs": [],
   "source": [
    "# MAPE 정의\n",
    "def mean_absolute_percentage_error(y_true, y_pred): \n",
    "    y_true, y_pred = np.array(y_true), np.array(y_pred)\n",
    "    return np.mean(np.abs((y_true - y_pred) / y_true)) * 100"
   ]
  },
  {
   "cell_type": "code",
   "execution_count": 148,
   "metadata": {},
   "outputs": [],
   "source": [
    "a=h2o.as_list(predict)"
   ]
  },
  {
   "cell_type": "code",
   "execution_count": 150,
   "metadata": {},
   "outputs": [
    {
     "data": {
      "text/html": [
       "<table>\n",
       "<thead>\n",
       "<tr><th style=\"text-align: right;\">   G</th></tr>\n",
       "</thead>\n",
       "<tbody>\n",
       "<tr><td style=\"text-align: right;\">4690</td></tr>\n",
       "<tr><td style=\"text-align: right;\">5570</td></tr>\n",
       "<tr><td style=\"text-align: right;\">5320</td></tr>\n",
       "<tr><td style=\"text-align: right;\">5490</td></tr>\n",
       "<tr><td style=\"text-align: right;\">6000</td></tr>\n",
       "<tr><td style=\"text-align: right;\">5670</td></tr>\n",
       "<tr><td style=\"text-align: right;\">2585</td></tr>\n",
       "<tr><td style=\"text-align: right;\">2080</td></tr>\n",
       "<tr><td style=\"text-align: right;\">2210</td></tr>\n",
       "<tr><td style=\"text-align: right;\">2095</td></tr>\n",
       "</tbody>\n",
       "</table>"
      ]
     },
     "metadata": {},
     "output_type": "display_data"
    },
    {
     "data": {
      "text/plain": []
     },
     "execution_count": 150,
     "metadata": {},
     "output_type": "execute_result"
    }
   ],
   "source": [
    "valid_y"
   ]
  },
  {
   "cell_type": "code",
   "execution_count": 151,
   "metadata": {},
   "outputs": [
    {
     "data": {
      "text/html": [
       "<div>\n",
       "<style scoped>\n",
       "    .dataframe tbody tr th:only-of-type {\n",
       "        vertical-align: middle;\n",
       "    }\n",
       "\n",
       "    .dataframe tbody tr th {\n",
       "        vertical-align: top;\n",
       "    }\n",
       "\n",
       "    .dataframe thead th {\n",
       "        text-align: right;\n",
       "    }\n",
       "</style>\n",
       "<table border=\"1\" class=\"dataframe\">\n",
       "  <thead>\n",
       "    <tr style=\"text-align: right;\">\n",
       "      <th></th>\n",
       "      <th>predict</th>\n",
       "    </tr>\n",
       "  </thead>\n",
       "  <tbody>\n",
       "    <tr>\n",
       "      <th>0</th>\n",
       "      <td>5684.161813</td>\n",
       "    </tr>\n",
       "    <tr>\n",
       "      <th>1</th>\n",
       "      <td>7822.408782</td>\n",
       "    </tr>\n",
       "    <tr>\n",
       "      <th>2</th>\n",
       "      <td>14068.071271</td>\n",
       "    </tr>\n",
       "    <tr>\n",
       "      <th>3</th>\n",
       "      <td>9135.335040</td>\n",
       "    </tr>\n",
       "    <tr>\n",
       "      <th>4</th>\n",
       "      <td>14207.444961</td>\n",
       "    </tr>\n",
       "    <tr>\n",
       "      <th>...</th>\n",
       "      <td>...</td>\n",
       "    </tr>\n",
       "    <tr>\n",
       "      <th>11731</th>\n",
       "      <td>6033.108580</td>\n",
       "    </tr>\n",
       "    <tr>\n",
       "      <th>11732</th>\n",
       "      <td>5533.694716</td>\n",
       "    </tr>\n",
       "    <tr>\n",
       "      <th>11733</th>\n",
       "      <td>5422.237404</td>\n",
       "    </tr>\n",
       "    <tr>\n",
       "      <th>11734</th>\n",
       "      <td>6262.795595</td>\n",
       "    </tr>\n",
       "    <tr>\n",
       "      <th>11735</th>\n",
       "      <td>5153.137591</td>\n",
       "    </tr>\n",
       "  </tbody>\n",
       "</table>\n",
       "<p>11736 rows × 1 columns</p>\n",
       "</div>"
      ],
      "text/plain": [
       "            predict\n",
       "0       5684.161813\n",
       "1       7822.408782\n",
       "2      14068.071271\n",
       "3       9135.335040\n",
       "4      14207.444961\n",
       "...             ...\n",
       "11731   6033.108580\n",
       "11732   5533.694716\n",
       "11733   5422.237404\n",
       "11734   6262.795595\n",
       "11735   5153.137591\n",
       "\n",
       "[11736 rows x 1 columns]"
      ]
     },
     "execution_count": 151,
     "metadata": {},
     "output_type": "execute_result"
    }
   ],
   "source": [
    "a"
   ]
  },
  {
   "cell_type": "code",
   "execution_count": 149,
   "metadata": {},
   "outputs": [
    {
     "ename": "ValueError",
     "evalue": "cannot copy sequence with size 11736 to array axis with dimension 1",
     "output_type": "error",
     "traceback": [
      "\u001b[1;31m---------------------------------------------------------------------------\u001b[0m",
      "\u001b[1;31mValueError\u001b[0m                                Traceback (most recent call last)",
      "\u001b[1;32m<ipython-input-149-f9b1eb9614e9>\u001b[0m in \u001b[0;36m<module>\u001b[1;34m\u001b[0m\n\u001b[1;32m----> 1\u001b[1;33m \u001b[0mmean_absolute_percentage_error\u001b[0m\u001b[1;33m(\u001b[0m\u001b[0mvalid_y\u001b[0m\u001b[1;33m,\u001b[0m \u001b[0ma\u001b[0m\u001b[1;33m)\u001b[0m\u001b[1;33m\u001b[0m\u001b[1;33m\u001b[0m\u001b[0m\n\u001b[0m",
      "\u001b[1;32m<ipython-input-147-c11433e81cdb>\u001b[0m in \u001b[0;36mmean_absolute_percentage_error\u001b[1;34m(y_true, y_pred)\u001b[0m\n\u001b[0;32m      1\u001b[0m \u001b[1;31m# MAPE 정의\u001b[0m\u001b[1;33m\u001b[0m\u001b[1;33m\u001b[0m\u001b[1;33m\u001b[0m\u001b[0m\n\u001b[0;32m      2\u001b[0m \u001b[1;32mdef\u001b[0m \u001b[0mmean_absolute_percentage_error\u001b[0m\u001b[1;33m(\u001b[0m\u001b[0my_true\u001b[0m\u001b[1;33m,\u001b[0m \u001b[0my_pred\u001b[0m\u001b[1;33m)\u001b[0m\u001b[1;33m:\u001b[0m\u001b[1;33m\u001b[0m\u001b[1;33m\u001b[0m\u001b[0m\n\u001b[1;32m----> 3\u001b[1;33m     \u001b[0my_true\u001b[0m\u001b[1;33m,\u001b[0m \u001b[0my_pred\u001b[0m \u001b[1;33m=\u001b[0m \u001b[0mnp\u001b[0m\u001b[1;33m.\u001b[0m\u001b[0marray\u001b[0m\u001b[1;33m(\u001b[0m\u001b[0my_true\u001b[0m\u001b[1;33m)\u001b[0m\u001b[1;33m,\u001b[0m \u001b[0mnp\u001b[0m\u001b[1;33m.\u001b[0m\u001b[0marray\u001b[0m\u001b[1;33m(\u001b[0m\u001b[0my_pred\u001b[0m\u001b[1;33m)\u001b[0m\u001b[1;33m\u001b[0m\u001b[1;33m\u001b[0m\u001b[0m\n\u001b[0m\u001b[0;32m      4\u001b[0m     \u001b[1;32mreturn\u001b[0m \u001b[0mnp\u001b[0m\u001b[1;33m.\u001b[0m\u001b[0mmean\u001b[0m\u001b[1;33m(\u001b[0m\u001b[0mnp\u001b[0m\u001b[1;33m.\u001b[0m\u001b[0mabs\u001b[0m\u001b[1;33m(\u001b[0m\u001b[1;33m(\u001b[0m\u001b[0my_true\u001b[0m \u001b[1;33m-\u001b[0m \u001b[0my_pred\u001b[0m\u001b[1;33m)\u001b[0m \u001b[1;33m/\u001b[0m \u001b[0my_true\u001b[0m\u001b[1;33m)\u001b[0m\u001b[1;33m)\u001b[0m \u001b[1;33m*\u001b[0m \u001b[1;36m100\u001b[0m\u001b[1;33m\u001b[0m\u001b[1;33m\u001b[0m\u001b[0m\n",
      "\u001b[1;31mValueError\u001b[0m: cannot copy sequence with size 11736 to array axis with dimension 1"
     ]
    }
   ],
   "source": [
    "\n",
    "mean_absolute_percentage_error(valid_y, a)"
   ]
  },
  {
   "cell_type": "code",
   "execution_count": null,
   "metadata": {},
   "outputs": [],
   "source": []
  },
  {
   "cell_type": "code",
   "execution_count": null,
   "metadata": {},
   "outputs": [],
   "source": []
  },
  {
   "cell_type": "code",
   "execution_count": null,
   "metadata": {},
   "outputs": [],
   "source": []
  }
 ],
 "metadata": {
  "kernelspec": {
   "display_name": "Python 3",
   "language": "python",
   "name": "python3"
  }
 },
 "nbformat": 4,
 "nbformat_minor": 4
}
