{
 "cells": [
  {
   "cell_type": "code",
   "execution_count": 2,
   "metadata": {},
   "outputs": [],
   "source": [
    "import os"
   ]
  },
  {
   "cell_type": "code",
   "execution_count": 20,
   "metadata": {},
   "outputs": [
    {
     "name": "stdout",
     "output_type": "stream",
     "text": [
      "E:\\hanim\n"
     ]
    }
   ],
   "source": [
    "os.chdir(\"E:/hanim\")\n",
    "print(os.getcwd())"
   ]
  },
  {
   "cell_type": "code",
   "execution_count": 21,
   "metadata": {},
   "outputs": [],
   "source": [
    "import pandas as pd\n",
    "import numpy as np\n",
    "import matplotlib.pyplot as plt\n",
    "import csv"
   ]
  },
  {
   "cell_type": "code",
   "execution_count": 5,
   "metadata": {},
   "outputs": [],
   "source": [
    "data=pd.read_csv('Quant_20200729_143930_eng.csv')"
   ]
  },
  {
   "cell_type": "code",
   "execution_count": 6,
   "metadata": {},
   "outputs": [
    {
     "data": {
      "text/plain": [
       "'     code_number company_name   industry_big Industry_small kospi_kosdaq  \\\\\\n0        A005930         삼성전자  반도체 관련장비 및 부품         종합 반도체          코스피   \\n1        A000660       SK하이닉스  반도체 관련장비 및 부품         종합 반도체          코스피   \\n2        A068270         셀트리온       제약 및 바이오            바이오          코스피   \\n3        A051910         LG화학             화학          종합 화학          코스피   \\n4        A005380          현대차     자동차 및 관련부품            완성차          코스피   \\n...          ...          ...            ...            ...          ...   \\n2200     A335890   IBKS제11호스팩             금융             스팩          코스닥   \\n2201     A337450       SK5호스팩             금융             스팩          코스닥   \\n2202     A088260       이리츠코크렙          일반서비스            부동산          코스피   \\n2203     A290520         신도기연  디스플레이 장비 및 부품       디스플레이 부품          코스닥   \\n2204     A351320   IBKS제14호스팩             금융             스팩          코스닥   \\n\\n      stock_price  market_capitalization  listed_shares_stock  treasury_stock  \\\\\\n0           58600                3498293               596978               0   \\n1           83100                 604970                72800            4400   \\n2          317500                 428433                13494             121   \\n3          528000                 372728                 7059             165   \\n4          123000                 262812                21367            1309   \\n...           ...                    ...                  ...             ...   \\n2200         2055                     98                  479               0   \\n2201         2005                     86                  431               0   \\n2202         5220                   3306                 6334               0   \\n2203        20500                   1653                  806               0   \\n2204         2050                     89                  433               0   \\n\\n      treasury_stock_weight  ...  net_profit_19_4Q  net_profit_20_1Q  \\\\\\n0                       0.0  ...             52280             48896   \\n1                       6.0  ...             -1182              6482   \\n2                       0.9  ...               950              1049   \\n3                       2.3  ...              -778               211   \\n4                       6.1  ...              8044              4633   \\n...                     ...  ...               ...               ...   \\n2200                    0.0  ...                 0                 0   \\n2201                    0.0  ...                 0                 0   \\n2202                    0.0  ...                33                34   \\n2203                    0.0  ...                 0                36   \\n2204                    0.0  ...                 0                 0   \\n\\n      net_profit_20_2Q  net_profit_20_3Q  present_net_sales_volume  \\\\\\n0                50725             70038                    520000   \\n1                12629             14089                     86065   \\n2                 1425              1533                         0   \\n3                 2877              3018                         0   \\n4                 2274              7891                    218590   \\n...                ...               ...                       ...   \\n2200                 0                 0                         0   \\n2201                 0                 0                         0   \\n2202                 0                 0                         0   \\n2203                 0                 0                         0   \\n2204                 0                 0                         0   \\n\\n      present_operating_profit  present_net_profit  consensus_sales_volume  \\\\\\n0                        81000                   0                  510625   \\n1                        19467               12629                   84359   \\n2                            0                   0                    4016   \\n3                            0                   0                   72198   \\n4                         5903                2274                  199276   \\n...                        ...                 ...                     ...   \\n2200                         0                   0                       0   \\n2201                         0                   0                       0   \\n2202                         0                   0                       0   \\n2203                         0                   0                       0   \\n2204                         0                   0                       0   \\n\\n      consensus_operating_profit  consensus_net_profit  \\n0                          66188                 50725  \\n1                          18239                 13444  \\n2                           1563                  1425  \\n3                           4310                  2877  \\n4                           2676                  1999  \\n...                          ...                   ...  \\n2200                           0                     0  \\n2201                           0                     0  \\n2202                           0                     0  \\n2203                           0                     0  \\n2204                           0                     0  \\n\\n[2205 rows x 270 columns]'"
      ]
     },
     "execution_count": 6,
     "metadata": {},
     "output_type": "execute_result"
    }
   ],
   "source": [
    "str(data)"
   ]
  },
  {
   "cell_type": "code",
   "execution_count": 7,
   "metadata": {},
   "outputs": [
    {
     "name": "stderr",
     "output_type": "stream",
     "text": [
      "C:\\Anaconda\\lib\\site-packages\\tensorflow\\python\\framework\\dtypes.py:516: FutureWarning: Passing (type, 1) or '1type' as a synonym of type is deprecated; in a future version of numpy, it will be understood as (type, (1,)) / '(1,)type'.\n",
      "  _np_qint8 = np.dtype([(\"qint8\", np.int8, 1)])\n",
      "C:\\Anaconda\\lib\\site-packages\\tensorflow\\python\\framework\\dtypes.py:517: FutureWarning: Passing (type, 1) or '1type' as a synonym of type is deprecated; in a future version of numpy, it will be understood as (type, (1,)) / '(1,)type'.\n",
      "  _np_quint8 = np.dtype([(\"quint8\", np.uint8, 1)])\n",
      "C:\\Anaconda\\lib\\site-packages\\tensorflow\\python\\framework\\dtypes.py:518: FutureWarning: Passing (type, 1) or '1type' as a synonym of type is deprecated; in a future version of numpy, it will be understood as (type, (1,)) / '(1,)type'.\n",
      "  _np_qint16 = np.dtype([(\"qint16\", np.int16, 1)])\n",
      "C:\\Anaconda\\lib\\site-packages\\tensorflow\\python\\framework\\dtypes.py:519: FutureWarning: Passing (type, 1) or '1type' as a synonym of type is deprecated; in a future version of numpy, it will be understood as (type, (1,)) / '(1,)type'.\n",
      "  _np_quint16 = np.dtype([(\"quint16\", np.uint16, 1)])\n",
      "C:\\Anaconda\\lib\\site-packages\\tensorflow\\python\\framework\\dtypes.py:520: FutureWarning: Passing (type, 1) or '1type' as a synonym of type is deprecated; in a future version of numpy, it will be understood as (type, (1,)) / '(1,)type'.\n",
      "  _np_qint32 = np.dtype([(\"qint32\", np.int32, 1)])\n",
      "C:\\Anaconda\\lib\\site-packages\\tensorflow\\python\\framework\\dtypes.py:525: FutureWarning: Passing (type, 1) or '1type' as a synonym of type is deprecated; in a future version of numpy, it will be understood as (type, (1,)) / '(1,)type'.\n",
      "  np_resource = np.dtype([(\"resource\", np.ubyte, 1)])\n",
      "C:\\Anaconda\\lib\\site-packages\\tensorboard\\compat\\tensorflow_stub\\dtypes.py:541: FutureWarning: Passing (type, 1) or '1type' as a synonym of type is deprecated; in a future version of numpy, it will be understood as (type, (1,)) / '(1,)type'.\n",
      "  _np_qint8 = np.dtype([(\"qint8\", np.int8, 1)])\n",
      "C:\\Anaconda\\lib\\site-packages\\tensorboard\\compat\\tensorflow_stub\\dtypes.py:542: FutureWarning: Passing (type, 1) or '1type' as a synonym of type is deprecated; in a future version of numpy, it will be understood as (type, (1,)) / '(1,)type'.\n",
      "  _np_quint8 = np.dtype([(\"quint8\", np.uint8, 1)])\n",
      "C:\\Anaconda\\lib\\site-packages\\tensorboard\\compat\\tensorflow_stub\\dtypes.py:543: FutureWarning: Passing (type, 1) or '1type' as a synonym of type is deprecated; in a future version of numpy, it will be understood as (type, (1,)) / '(1,)type'.\n",
      "  _np_qint16 = np.dtype([(\"qint16\", np.int16, 1)])\n",
      "C:\\Anaconda\\lib\\site-packages\\tensorboard\\compat\\tensorflow_stub\\dtypes.py:544: FutureWarning: Passing (type, 1) or '1type' as a synonym of type is deprecated; in a future version of numpy, it will be understood as (type, (1,)) / '(1,)type'.\n",
      "  _np_quint16 = np.dtype([(\"quint16\", np.uint16, 1)])\n",
      "C:\\Anaconda\\lib\\site-packages\\tensorboard\\compat\\tensorflow_stub\\dtypes.py:545: FutureWarning: Passing (type, 1) or '1type' as a synonym of type is deprecated; in a future version of numpy, it will be understood as (type, (1,)) / '(1,)type'.\n",
      "  _np_qint32 = np.dtype([(\"qint32\", np.int32, 1)])\n",
      "C:\\Anaconda\\lib\\site-packages\\tensorboard\\compat\\tensorflow_stub\\dtypes.py:550: FutureWarning: Passing (type, 1) or '1type' as a synonym of type is deprecated; in a future version of numpy, it will be understood as (type, (1,)) / '(1,)type'.\n",
      "  np_resource = np.dtype([(\"resource\", np.ubyte, 1)])\n"
     ]
    }
   ],
   "source": [
    "import tensorflow as tf\n",
    "import sklearn \n",
    "import matplotlib as mpl\n",
    "from fbprophet import Prophet\n",
    "# General Library\n",
    "\n",
    "import numpy as np\n",
    "import pandas as pd\n",
    "import time\n",
    "import datetime\n",
    "import random\n",
    "import os\n",
    "import csv\n",
    "import matplotlib.pyplot as plt\n",
    "import seaborn as sns\n",
    "\n",
    "# Machine Learning Library\n",
    "from fbprophet import Prophet\n",
    "import lightgbm as lgb\n",
    "from sklearn.model_selection import train_test_split"
   ]
  },
  {
   "cell_type": "markdown",
   "metadata": {},
   "source": [
    "# prophet\n"
   ]
  },
  {
   "cell_type": "code",
   "execution_count": 8,
   "metadata": {},
   "outputs": [
    {
     "name": "stderr",
     "output_type": "stream",
     "text": [
      "C:\\Anaconda\\lib\\site-packages\\pandas_datareader\\compat\\__init__.py:7: FutureWarning:\n",
      "\n",
      "pandas.util.testing is deprecated. Use the functions in the public API at pandas.testing instead.\n",
      "\n"
     ]
    }
   ],
   "source": [
    "from datetime import datetime\n",
    "import pandas_datareader.data as wb\n",
    " \n",
    "start = datetime(2017,1,1)\n",
    "end = datetime(2020,6,30)\n",
    " # 미국\n",
    "AAPL= wb.DataReader('AAPL', 'yahoo',start,end)"
   ]
  },
  {
   "cell_type": "code",
   "execution_count": 9,
   "metadata": {},
   "outputs": [
    {
     "data": {
      "text/html": [
       "<div>\n",
       "<style scoped>\n",
       "    .dataframe tbody tr th:only-of-type {\n",
       "        vertical-align: middle;\n",
       "    }\n",
       "\n",
       "    .dataframe tbody tr th {\n",
       "        vertical-align: top;\n",
       "    }\n",
       "\n",
       "    .dataframe thead th {\n",
       "        text-align: right;\n",
       "    }\n",
       "</style>\n",
       "<table border=\"1\" class=\"dataframe\">\n",
       "  <thead>\n",
       "    <tr style=\"text-align: right;\">\n",
       "      <th></th>\n",
       "      <th>ds</th>\n",
       "      <th>y</th>\n",
       "    </tr>\n",
       "  </thead>\n",
       "  <tbody>\n",
       "    <tr>\n",
       "      <th>0</th>\n",
       "      <td>2017-01-03</td>\n",
       "      <td>116.150002</td>\n",
       "    </tr>\n",
       "    <tr>\n",
       "      <th>1</th>\n",
       "      <td>2017-01-04</td>\n",
       "      <td>116.019997</td>\n",
       "    </tr>\n",
       "    <tr>\n",
       "      <th>2</th>\n",
       "      <td>2017-01-05</td>\n",
       "      <td>116.610001</td>\n",
       "    </tr>\n",
       "    <tr>\n",
       "      <th>3</th>\n",
       "      <td>2017-01-06</td>\n",
       "      <td>117.910004</td>\n",
       "    </tr>\n",
       "    <tr>\n",
       "      <th>4</th>\n",
       "      <td>2017-01-09</td>\n",
       "      <td>118.989998</td>\n",
       "    </tr>\n",
       "    <tr>\n",
       "      <th>...</th>\n",
       "      <td>...</td>\n",
       "      <td>...</td>\n",
       "    </tr>\n",
       "    <tr>\n",
       "      <th>874</th>\n",
       "      <td>2020-06-24</td>\n",
       "      <td>360.059998</td>\n",
       "    </tr>\n",
       "    <tr>\n",
       "      <th>875</th>\n",
       "      <td>2020-06-25</td>\n",
       "      <td>364.839996</td>\n",
       "    </tr>\n",
       "    <tr>\n",
       "      <th>876</th>\n",
       "      <td>2020-06-26</td>\n",
       "      <td>353.630005</td>\n",
       "    </tr>\n",
       "    <tr>\n",
       "      <th>877</th>\n",
       "      <td>2020-06-29</td>\n",
       "      <td>361.779999</td>\n",
       "    </tr>\n",
       "    <tr>\n",
       "      <th>878</th>\n",
       "      <td>2020-06-30</td>\n",
       "      <td>364.799988</td>\n",
       "    </tr>\n",
       "  </tbody>\n",
       "</table>\n",
       "<p>879 rows × 2 columns</p>\n",
       "</div>"
      ],
      "text/plain": [
       "            ds           y\n",
       "0   2017-01-03  116.150002\n",
       "1   2017-01-04  116.019997\n",
       "2   2017-01-05  116.610001\n",
       "3   2017-01-06  117.910004\n",
       "4   2017-01-09  118.989998\n",
       "..         ...         ...\n",
       "874 2020-06-24  360.059998\n",
       "875 2020-06-25  364.839996\n",
       "876 2020-06-26  353.630005\n",
       "877 2020-06-29  361.779999\n",
       "878 2020-06-30  364.799988\n",
       "\n",
       "[879 rows x 2 columns]"
      ]
     },
     "execution_count": 9,
     "metadata": {},
     "output_type": "execute_result"
    }
   ],
   "source": [
    "y=AAPL['Close']\n",
    "y.columns=['y']\n",
    "y=y.reset_index()\n",
    "y.columns=['ds','y']\n",
    "y"
   ]
  },
  {
   "cell_type": "code",
   "execution_count": 11,
   "metadata": {},
   "outputs": [
    {
     "name": "stderr",
     "output_type": "stream",
     "text": [
      "INFO:fbprophet:Disabling daily seasonality. Run prophet with daily_seasonality=True to override this.\n"
     ]
    },
    {
     "data": {
      "image/png": "[encoded data removed]",
      "text/plain": [
       "<Figure size 720x432 with 1 Axes>"
      ]
     },
     "metadata": {},
     "output_type": "display_data"
    }
   ],
   "source": [
    "m_1 = Prophet()\n",
    "m_1.fit(y)\n",
    "future_1 = m_1.make_future_dataframe(periods=30)\n",
    "forecast_1 = m_1.predict(future_1)\n",
    "fig_1 = m_1.plot(forecast_1)"
   ]
  },
  {
   "cell_type": "code",
   "execution_count": 13,
   "metadata": {},
   "outputs": [
    {
     "data": {
      "text/plain": [
       "0      124.450048\n",
       "1      124.908178\n",
       "2      125.158680\n",
       "3      125.258975\n",
       "4      126.484330\n",
       "          ...    \n",
       "874    333.907296\n",
       "875    333.668204\n",
       "876    333.201936\n",
       "877    332.385154\n",
       "878    332.938888\n",
       "Name: yhat, Length: 879, dtype: float64"
      ]
     },
     "execution_count": 13,
     "metadata": {},
     "output_type": "execute_result"
    }
   ],
   "source": [
    "m_1.predict()['yhat']"
   ]
  },
  {
   "cell_type": "markdown",
   "metadata": {},
   "source": [
    "# automl_h2o"
   ]
  },
  {
   "cell_type": "code",
   "execution_count": 23,
   "metadata": {},
   "outputs": [
    {
     "name": "stdout",
     "output_type": "stream",
     "text": [
      "Checking whether there is an H2O instance running at http://localhost:54321 . connected.\n"
     ]
    },
    {
     "data": {
      "text/html": [
       "<div style=\"overflow:auto\"><table style=\"width:50%\"><tr><td>H2O_cluster_uptime:</td>\n",
       "<td>38 secs</td></tr>\n",
       "<tr><td>H2O_cluster_timezone:</td>\n",
       "<td>Asia/Seoul</td></tr>\n",
       "<tr><td>H2O_data_parsing_timezone:</td>\n",
       "<td>UTC</td></tr>\n",
       "<tr><td>H2O_cluster_version:</td>\n",
       "<td>3.30.0.7</td></tr>\n",
       "<tr><td>H2O_cluster_version_age:</td>\n",
       "<td>17 days </td></tr>\n",
       "<tr><td>H2O_cluster_name:</td>\n",
       "<td>H2O_from_python_占쎌삢占쎄쉭占쎌넎_vdken3</td></tr>\n",
       "<tr><td>H2O_cluster_total_nodes:</td>\n",
       "<td>1</td></tr>\n",
       "<tr><td>H2O_cluster_free_memory:</td>\n",
       "<td>2.581 Gb</td></tr>\n",
       "<tr><td>H2O_cluster_total_cores:</td>\n",
       "<td>8</td></tr>\n",
       "<tr><td>H2O_cluster_allowed_cores:</td>\n",
       "<td>8</td></tr>\n",
       "<tr><td>H2O_cluster_status:</td>\n",
       "<td>locked, healthy</td></tr>\n",
       "<tr><td>H2O_connection_url:</td>\n",
       "<td>http://localhost:54321</td></tr>\n",
       "<tr><td>H2O_connection_proxy:</td>\n",
       "<td>{\"http\": null, \"https\": null, \"no\": \"192.168.99.100\"}</td></tr>\n",
       "<tr><td>H2O_internal_security:</td>\n",
       "<td>False</td></tr>\n",
       "<tr><td>H2O_API_Extensions:</td>\n",
       "<td>Amazon S3, Algos, AutoML, Core V3, TargetEncoder, Core V4</td></tr>\n",
       "<tr><td>Python_version:</td>\n",
       "<td>3.7.7 final</td></tr></table></div>"
      ],
      "text/plain": [
       "--------------------------  ---------------------------------------------------------\n",
       "H2O_cluster_uptime:         38 secs\n",
       "H2O_cluster_timezone:       Asia/Seoul\n",
       "H2O_data_parsing_timezone:  UTC\n",
       "H2O_cluster_version:        3.30.0.7\n",
       "H2O_cluster_version_age:    17 days\n",
       "H2O_cluster_name:           H2O_from_python_占쎌삢占쎄쉭占쎌넎_vdken3\n",
       "H2O_cluster_total_nodes:    1\n",
       "H2O_cluster_free_memory:    2.581 Gb\n",
       "H2O_cluster_total_cores:    8\n",
       "H2O_cluster_allowed_cores:  8\n",
       "H2O_cluster_status:         locked, healthy\n",
       "H2O_connection_url:         http://localhost:54321\n",
       "H2O_connection_proxy:       {\"http\": null, \"https\": null, \"no\": \"192.168.99.100\"}\n",
       "H2O_internal_security:      False\n",
       "H2O_API_Extensions:         Amazon S3, Algos, AutoML, Core V3, TargetEncoder, Core V4\n",
       "Python_version:             3.7.7 final\n",
       "--------------------------  ---------------------------------------------------------"
      ]
     },
     "metadata": {},
     "output_type": "display_data"
    }
   ],
   "source": [
    "import h2o\n",
    "from h2o.automl import H2OAutoML\n",
    "\n",
    "h2o.init()"
   ]
  },
  {
   "cell_type": "code",
   "execution_count": 24,
   "metadata": {},
   "outputs": [
    {
     "name": "stdout",
     "output_type": "stream",
     "text": [
      "Parse progress: |█████████████████████████████████████████████████████████| 100%\n"
     ]
    }
   ],
   "source": [
    "# Use local data file or download from GitHub\n",
    "import os\n",
    "docker_data_path = \"/home/h2o/data/automl/powerplant_output.csv\"\n",
    "if os.path.isfile(docker_data_path):\n",
    "  data_path = docker_data_path\n",
    "else:\n",
    "  data_path = \"https://github.com/h2oai/h2o-tutorials/raw/master/h2o-world-2017/automl/data/powerplant_output.csv\"\n",
    "\n",
    "\n",
    "# Load data into H2O\n",
    "df = h2o.import_file(data_path)"
   ]
  },
  {
   "cell_type": "code",
   "execution_count": 25,
   "metadata": {},
   "outputs": [
    {
     "name": "stdout",
     "output_type": "stream",
     "text": [
      "Rows:9568\n",
      "Cols:5\n",
      "\n",
      "\n"
     ]
    },
    {
     "data": {
      "text/html": [
       "<table>\n",
       "<thead>\n",
       "<tr><th>       </th><th>TemperatureCelcius  </th><th>ExhaustVacuumHg   </th><th>AmbientPressureMillibar  </th><th>RelativeHumidity  </th><th>HourlyEnergyOutputMW  </th></tr>\n",
       "</thead>\n",
       "<tbody>\n",
       "<tr><td>type   </td><td>real                </td><td>real              </td><td>real                     </td><td>real              </td><td>real                  </td></tr>\n",
       "<tr><td>mins   </td><td>1.81                </td><td>25.36             </td><td>992.89                   </td><td>25.56             </td><td>420.26                </td></tr>\n",
       "<tr><td>mean   </td><td>19.651231187290968  </td><td>54.30580372073578 </td><td>1013.2590781772575       </td><td>73.30897784280936 </td><td>454.36500940635455    </td></tr>\n",
       "<tr><td>maxs   </td><td>37.11               </td><td>81.56             </td><td>1033.3                   </td><td>100.16            </td><td>495.76                </td></tr>\n",
       "<tr><td>sigma  </td><td>7.452473229611079   </td><td>12.707892998326809</td><td>5.938783705811604        </td><td>14.600268756728953</td><td>17.066994999803416    </td></tr>\n",
       "<tr><td>zeros  </td><td>0                   </td><td>0                 </td><td>0                        </td><td>0                 </td><td>0                     </td></tr>\n",
       "<tr><td>missing</td><td>0                   </td><td>0                 </td><td>0                        </td><td>0                 </td><td>0                     </td></tr>\n",
       "<tr><td>0      </td><td>14.96               </td><td>41.76             </td><td>1024.07                  </td><td>73.17             </td><td>463.26                </td></tr>\n",
       "<tr><td>1      </td><td>25.18               </td><td>62.96             </td><td>1020.04                  </td><td>59.08             </td><td>444.37                </td></tr>\n",
       "<tr><td>2      </td><td>5.11                </td><td>39.4              </td><td>1012.16                  </td><td>92.14             </td><td>488.56                </td></tr>\n",
       "<tr><td>3      </td><td>20.86               </td><td>57.32             </td><td>1010.24                  </td><td>76.64             </td><td>446.48                </td></tr>\n",
       "<tr><td>4      </td><td>10.82               </td><td>37.5              </td><td>1009.23                  </td><td>96.62             </td><td>473.9                 </td></tr>\n",
       "<tr><td>5      </td><td>26.27               </td><td>59.44             </td><td>1012.23                  </td><td>58.77             </td><td>443.67                </td></tr>\n",
       "<tr><td>6      </td><td>15.89               </td><td>43.96             </td><td>1014.02                  </td><td>75.24             </td><td>467.35                </td></tr>\n",
       "<tr><td>7      </td><td>9.48                </td><td>44.71             </td><td>1019.12                  </td><td>66.43             </td><td>478.42                </td></tr>\n",
       "<tr><td>8      </td><td>14.64               </td><td>45.0              </td><td>1021.78                  </td><td>41.25             </td><td>475.98                </td></tr>\n",
       "<tr><td>9      </td><td>11.74               </td><td>43.56             </td><td>1015.14                  </td><td>70.72             </td><td>477.5                 </td></tr>\n",
       "</tbody>\n",
       "</table>"
      ]
     },
     "metadata": {},
     "output_type": "display_data"
    }
   ],
   "source": [
    "df.describe()"
   ]
  },
  {
   "cell_type": "code",
   "execution_count": 26,
   "metadata": {},
   "outputs": [],
   "source": [
    "\n",
    "y = \"HourlyEnergyOutputMW\""
   ]
  },
  {
   "cell_type": "code",
   "execution_count": 27,
   "metadata": {},
   "outputs": [],
   "source": [
    "\n",
    "splits = df.split_frame(ratios = [0.8], seed = 1)\n",
    "train = splits[0]\n",
    "test = splits[1]"
   ]
  },
  {
   "cell_type": "markdown",
   "metadata": {},
   "source": [
    "# Run AutoML\n",
    "Run AutoML, stopping after 60 seconds. The max_runtime_secs argument provides a way to limit the AutoML run by time. When using a time-limited stopping criterion, the number of models train will vary between runs. If different hardware is used or even if the same machine is used but the available compute resources on that machine are not the same between runs, then AutoML may be able to train more models on one run vs another.\n",
    "\n",
    "The test frame is passed explicitly to the leaderboard_frame argument here, which means that instead of using cross-validated metrics, we use test set metrics for generating the leaderboard"
   ]
  },
  {
   "cell_type": "code",
   "execution_count": 28,
   "metadata": {},
   "outputs": [
    {
     "name": "stdout",
     "output_type": "stream",
     "text": [
      "AutoML progress: |█\n",
      "16:09:05.181: AutoML: XGBoost is not available; skipping it.\n",
      "\n",
      "███████████████████████████████████████████████████████| 100%\n"
     ]
    }
   ],
   "source": [
    "aml = H2OAutoML(max_runtime_secs = 60, seed = 1, project_name = \"powerplant_lb_frame\")\n",
    "aml.train(y = y, training_frame = train, leaderboard_frame = test)\n",
    "\n",
    "# max_runtime_secs가 짦아 많은 모델이 학습되지 않음\n",
    "\n"
   ]
  },
  {
   "cell_type": "markdown",
   "metadata": {},
   "source": [
    "\n",
    "# Leaderboard\n",
    "Next, we will view the AutoML Leaderboard. Since we specified a leaderboard_frame in the H2OAutoML.train() method for scoring and ranking the models, the AutoML leaderboard uses the performance on this data to rank the models.\n",
    "\n",
    "After viewing the \"powerplant_lb_frame\" AutoML project leaderboard, we compare that to the leaderboard for the \"powerplant_full_data\" project. We can see that the results are better when the full dataset is used for training.\n",
    "\n",
    "A default performance metric for each machine learning task (binary classification, multiclass classification, regression) is specified internally and the leaderboard will be sorted by that metric. In the case of regression, the default ranking metric is mean residual deviance. In the future, the user will be able to specify any of the H2O metrics so that different metrics can be used to generate rankings on the leaderboard."
   ]
  },
  {
   "cell_type": "code",
   "execution_count": 31,
   "metadata": {},
   "outputs": [
    {
     "data": {
      "text/html": [
       "<table>\n",
       "<thead>\n",
       "<tr><th>model_id                                  </th><th style=\"text-align: right;\">  mean_residual_deviance</th><th style=\"text-align: right;\">   rmse</th><th style=\"text-align: right;\">    mse</th><th style=\"text-align: right;\">    mae</th><th style=\"text-align: right;\">     rmsle</th></tr>\n",
       "</thead>\n",
       "<tbody>\n",
       "<tr><td>GBM_4_AutoML_20200808_161151              </td><td style=\"text-align: right;\">                 10.5147</td><td style=\"text-align: right;\">3.24264</td><td style=\"text-align: right;\">10.5147</td><td style=\"text-align: right;\">2.33451</td><td style=\"text-align: right;\">0.00712255</td></tr>\n",
       "<tr><td>GBM_3_AutoML_20200808_161151              </td><td style=\"text-align: right;\">                 10.959 </td><td style=\"text-align: right;\">3.31043</td><td style=\"text-align: right;\">10.959 </td><td style=\"text-align: right;\">2.40163</td><td style=\"text-align: right;\">0.00727222</td></tr>\n",
       "<tr><td>GBM_1_AutoML_20200808_161151              </td><td style=\"text-align: right;\">                 11.0822</td><td style=\"text-align: right;\">3.329  </td><td style=\"text-align: right;\">11.0822</td><td style=\"text-align: right;\">2.41612</td><td style=\"text-align: right;\">0.00731442</td></tr>\n",
       "<tr><td>GBM_2_AutoML_20200808_161151              </td><td style=\"text-align: right;\">                 11.2944</td><td style=\"text-align: right;\">3.36072</td><td style=\"text-align: right;\">11.2944</td><td style=\"text-align: right;\">2.4472 </td><td style=\"text-align: right;\">0.00738104</td></tr>\n",
       "<tr><td>GBM_grid__1_AutoML_20200808_161151_model_4</td><td style=\"text-align: right;\">                 11.4891</td><td style=\"text-align: right;\">3.38956</td><td style=\"text-align: right;\">11.4891</td><td style=\"text-align: right;\">2.45535</td><td style=\"text-align: right;\">0.00745013</td></tr>\n",
       "<tr><td>GBM_grid__1_AutoML_20200808_161151_model_2</td><td style=\"text-align: right;\">                 11.742 </td><td style=\"text-align: right;\">3.42667</td><td style=\"text-align: right;\">11.742 </td><td style=\"text-align: right;\">2.50877</td><td style=\"text-align: right;\">0.00752508</td></tr>\n",
       "<tr><td>XRT_1_AutoML_20200808_161151              </td><td style=\"text-align: right;\">                 12.3042</td><td style=\"text-align: right;\">3.50774</td><td style=\"text-align: right;\">12.3042</td><td style=\"text-align: right;\">2.53982</td><td style=\"text-align: right;\">0.00771034</td></tr>\n",
       "<tr><td>DRF_1_AutoML_20200808_161151              </td><td style=\"text-align: right;\">                 12.3205</td><td style=\"text-align: right;\">3.51005</td><td style=\"text-align: right;\">12.3205</td><td style=\"text-align: right;\">2.53101</td><td style=\"text-align: right;\">0.00771533</td></tr>\n",
       "<tr><td>GBM_grid__1_AutoML_20200808_161151_model_5</td><td style=\"text-align: right;\">                 12.5957</td><td style=\"text-align: right;\">3.54904</td><td style=\"text-align: right;\">12.5957</td><td style=\"text-align: right;\">2.58972</td><td style=\"text-align: right;\">0.00779947</td></tr>\n",
       "<tr><td>GBM_grid__1_AutoML_20200808_161151_model_3</td><td style=\"text-align: right;\">                 13.2797</td><td style=\"text-align: right;\">3.64414</td><td style=\"text-align: right;\">13.2797</td><td style=\"text-align: right;\">2.71279</td><td style=\"text-align: right;\">0.00799716</td></tr>\n",
       "</tbody>\n",
       "</table>"
      ]
     },
     "metadata": {},
     "output_type": "display_data"
    },
    {
     "data": {
      "text/plain": []
     },
     "execution_count": 31,
     "metadata": {},
     "output_type": "execute_result"
    }
   ],
   "source": [
    "aml2.leaderboard.head()"
   ]
  },
  {
   "cell_type": "code",
   "execution_count": 35,
   "metadata": {},
   "outputs": [
    {
     "data": {
      "text/html": [
       "<table>\n",
       "<thead>\n",
       "<tr><th>model_id                                  </th><th style=\"text-align: right;\">  mean_residual_deviance</th><th style=\"text-align: right;\">   rmse</th><th style=\"text-align: right;\">    mse</th><th style=\"text-align: right;\">    mae</th><th style=\"text-align: right;\">     rmsle</th></tr>\n",
       "</thead>\n",
       "<tbody>\n",
       "<tr><td>GBM_grid__1_AutoML_20200808_160905_model_5</td><td style=\"text-align: right;\">                 12.1683</td><td style=\"text-align: right;\">3.48831</td><td style=\"text-align: right;\">12.1683</td><td style=\"text-align: right;\">2.45672</td><td style=\"text-align: right;\">0.00768816</td></tr>\n",
       "<tr><td>GBM_grid__1_AutoML_20200808_160905_model_4</td><td style=\"text-align: right;\">                 12.2086</td><td style=\"text-align: right;\">3.49409</td><td style=\"text-align: right;\">12.2086</td><td style=\"text-align: right;\">2.46433</td><td style=\"text-align: right;\">0.00769577</td></tr>\n",
       "<tr><td>GBM_4_AutoML_20200808_160905              </td><td style=\"text-align: right;\">                 12.3518</td><td style=\"text-align: right;\">3.51451</td><td style=\"text-align: right;\">12.3518</td><td style=\"text-align: right;\">2.54672</td><td style=\"text-align: right;\">0.00773048</td></tr>\n",
       "<tr><td>GBM_2_AutoML_20200808_160905              </td><td style=\"text-align: right;\">                 12.3754</td><td style=\"text-align: right;\">3.51787</td><td style=\"text-align: right;\">12.3754</td><td style=\"text-align: right;\">2.53039</td><td style=\"text-align: right;\">0.0077447 </td></tr>\n",
       "<tr><td>XRT_1_AutoML_20200808_160905              </td><td style=\"text-align: right;\">                 12.7494</td><td style=\"text-align: right;\">3.57063</td><td style=\"text-align: right;\">12.7494</td><td style=\"text-align: right;\">2.51799</td><td style=\"text-align: right;\">0.00787734</td></tr>\n",
       "<tr><td>GBM_grid__1_AutoML_20200808_160905_model_2</td><td style=\"text-align: right;\">                 12.8746</td><td style=\"text-align: right;\">3.58811</td><td style=\"text-align: right;\">12.8746</td><td style=\"text-align: right;\">2.60445</td><td style=\"text-align: right;\">0.00790374</td></tr>\n",
       "<tr><td>GBM_3_AutoML_20200808_160905              </td><td style=\"text-align: right;\">                 13.1517</td><td style=\"text-align: right;\">3.62653</td><td style=\"text-align: right;\">13.1517</td><td style=\"text-align: right;\">2.64627</td><td style=\"text-align: right;\">0.00797774</td></tr>\n",
       "<tr><td>GBM_1_AutoML_20200808_160905              </td><td style=\"text-align: right;\">                 13.2528</td><td style=\"text-align: right;\">3.64044</td><td style=\"text-align: right;\">13.2528</td><td style=\"text-align: right;\">2.61228</td><td style=\"text-align: right;\">0.00802393</td></tr>\n",
       "<tr><td>GBM_5_AutoML_20200808_160905              </td><td style=\"text-align: right;\">                 13.7152</td><td style=\"text-align: right;\">3.7034 </td><td style=\"text-align: right;\">13.7152</td><td style=\"text-align: right;\">2.70321</td><td style=\"text-align: right;\">0.00813748</td></tr>\n",
       "<tr><td>DRF_1_AutoML_20200808_160905              </td><td style=\"text-align: right;\">                 13.9323</td><td style=\"text-align: right;\">3.7326 </td><td style=\"text-align: right;\">13.9323</td><td style=\"text-align: right;\">2.66447</td><td style=\"text-align: right;\">0.00823358</td></tr>\n",
       "</tbody>\n",
       "</table>"
      ]
     },
     "metadata": {},
     "output_type": "display_data"
    },
    {
     "data": {
      "text/plain": []
     },
     "execution_count": 35,
     "metadata": {},
     "output_type": "execute_result"
    }
   ],
   "source": [
    "aml.leaderboard.head()"
   ]
  },
  {
   "cell_type": "code",
   "execution_count": 32,
   "metadata": {},
   "outputs": [
    {
     "name": "stdout",
     "output_type": "stream",
     "text": [
      "gbm prediction progress: |████████████████████████████████████████████████| 100%\n"
     ]
    },
    {
     "data": {
      "text/html": [
       "<table>\n",
       "<thead>\n",
       "<tr><th style=\"text-align: right;\">  predict</th></tr>\n",
       "</thead>\n",
       "<tbody>\n",
       "<tr><td style=\"text-align: right;\">  487.969</td></tr>\n",
       "<tr><td style=\"text-align: right;\">  472.9  </td></tr>\n",
       "<tr><td style=\"text-align: right;\">  465.377</td></tr>\n",
       "<tr><td style=\"text-align: right;\">  454.339</td></tr>\n",
       "<tr><td style=\"text-align: right;\">  446.998</td></tr>\n",
       "<tr><td style=\"text-align: right;\">  469.047</td></tr>\n",
       "<tr><td style=\"text-align: right;\">  442.841</td></tr>\n",
       "<tr><td style=\"text-align: right;\">  464.117</td></tr>\n",
       "<tr><td style=\"text-align: right;\">  443.134</td></tr>\n",
       "<tr><td style=\"text-align: right;\">  434.098</td></tr>\n",
       "</tbody>\n",
       "</table>"
      ]
     },
     "metadata": {},
     "output_type": "display_data"
    },
    {
     "data": {
      "text/plain": []
     },
     "execution_count": 32,
     "metadata": {},
     "output_type": "execute_result"
    }
   ],
   "source": [
    "pred = aml.predict(test)\n",
    "pred.head()"
   ]
  },
  {
   "cell_type": "code",
   "execution_count": 34,
   "metadata": {},
   "outputs": [
    {
     "name": "stdout",
     "output_type": "stream",
     "text": [
      "\n",
      "ModelMetricsRegression: gbm\n",
      "** Reported on test data. **\n",
      "\n",
      "MSE: 12.168318193086387\n",
      "RMSE: 3.4883116536637586\n",
      "MAE: 2.456720097637671\n",
      "RMSLE: 0.0076881633170982015\n",
      "Mean Residual Deviance: 12.168318193086387\n"
     ]
    },
    {
     "data": {
      "text/plain": []
     },
     "execution_count": 34,
     "metadata": {},
     "output_type": "execute_result"
    }
   ],
   "source": [
    "\n",
    "perf = aml.leader.model_performance(test)\n",
    "perf"
   ]
  },
  {
   "cell_type": "markdown",
   "metadata": {},
   "source": [
    "# AUTOML_H2O_적용"
   ]
  },
  {
   "cell_type": "code",
   "execution_count": null,
   "metadata": {},
   "outputs": [],
   "source": []
  },
  {
   "cell_type": "code",
   "execution_count": null,
   "metadata": {},
   "outputs": [],
   "source": []
  },
  {
   "cell_type": "markdown",
   "metadata": {},
   "source": [
    "# MLPRegressor"
   ]
  },
  {
   "cell_type": "code",
   "execution_count": 36,
   "metadata": {},
   "outputs": [],
   "source": [
    "from sklearn.neural_network import MLPRegressor\n",
    "import numpy as np\n",
    "import matplotlib.pyplot as plt"
   ]
  },
  {
   "cell_type": "code",
   "execution_count": 37,
   "metadata": {},
   "outputs": [],
   "source": [
    "x = np.arange(0.0, 1, 0.001).reshape(-1, 1)\n",
    "y = np.sin(2 * np.pi * x).ravel()"
   ]
  },
  {
   "cell_type": "code",
   "execution_count": 38,
   "metadata": {},
   "outputs": [],
   "source": [
    "nn = MLPRegressor(\n",
    "       hidden_layer_sizes=(100,),  activation='relu', solver='adam', alpha=0.001, batch_size='auto',\n",
    "       learning_rate='constant', learning_rate_init=0.01, power_t=0.5, max_iter=1000, shuffle=True,\n",
    "       random_state=0, tol=0.0001, verbose=False, warm_start=False, momentum=0.9, nesterovs_momentum=True,\n",
    "       early_stopping=False, validation_fraction=0.1, beta_1=0.9, beta_2=0.999, epsilon=1e-08)"
   ]
  },
  {
   "cell_type": "code",
   "execution_count": 39,
   "metadata": {},
   "outputs": [
    {
     "data": {
      "image/png": "[encoded data removed]",
      "text/plain": [
       "<Figure size 432x288 with 1 Axes>"
      ]
     },
     "metadata": {
      "needs_background": "light"
     },
     "output_type": "display_data"
    }
   ],
   "source": [
    "n = nn.fit(x, y)\n",
    "test_x = np.arange(0.0, 1, 0.05).reshape(-1, 1)\n",
    "test_y = nn.predict(test_x)\n",
    "fig = plt.figure()\n",
    "ax1 = fig.add_subplot(111)\n",
    "ax1.scatter(x, y, s=1, c='b', marker=\"s\", label='real')\n",
    "ax1.scatter(test_x,test_y, s=10, c='r', marker=\"o\", label='NN Prediction')\n",
    "plt.show()"
   ]
  },
  {
   "cell_type": "markdown",
   "metadata": {},
   "source": [
    "# MLPRegressor_적용"
   ]
  },
  {
   "cell_type": "code",
   "execution_count": null,
   "metadata": {},
   "outputs": [],
   "source": []
  },
  {
   "cell_type": "code",
   "execution_count": null,
   "metadata": {},
   "outputs": [],
   "source": []
  },
  {
   "cell_type": "code",
   "execution_count": null,
   "metadata": {},
   "outputs": [],
   "source": []
  },
  {
   "cell_type": "code",
   "execution_count": null,
   "metadata": {},
   "outputs": [],
   "source": []
  },
  {
   "cell_type": "code",
   "execution_count": null,
   "metadata": {},
   "outputs": [],
   "source": []
  },
  {
   "cell_type": "code",
   "execution_count": null,
   "metadata": {},
   "outputs": [],
   "source": []
  },
  {
   "cell_type": "code",
   "execution_count": null,
   "metadata": {},
   "outputs": [],
   "source": []
  }
 ],
 "metadata": {
  "kernelspec": {
   "display_name": "Python 3",
   "language": "python",
   "name": "python3"
  },
  "language_info": {
   "codemirror_mode": {
    "name": "ipython",
    "version": 3
   },
   "file_extension": ".py",
   "mimetype": "text/x-python",
   "name": "python",
   "nbconvert_exporter": "python",
   "pygments_lexer": "ipython3",
   "version": "3.7.7"
  }
 },
 "nbformat": 4,
 "nbformat_minor": 2
}
